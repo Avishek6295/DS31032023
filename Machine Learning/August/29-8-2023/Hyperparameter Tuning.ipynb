{
 "cells": [
  {
   "cell_type": "markdown",
   "id": "d9bdd53f",
   "metadata": {},
   "source": [
    "### Hyperparameter:\n",
    "\n",
    "- They are the parameter specified inside the ML Algorithm, now since these parameter affect the accuracy of the ML algorithm hence we call them as Hyperparameters.\n",
    "- Tuning : Adjusting\n",
    "\n",
    "#### Hyperparameter Tuning : To adjust the parameter of any ML Algorithm in such a way that the specified parameter give us the max accuracy."
   ]
  },
  {
   "cell_type": "markdown",
   "id": "3876f8ec",
   "metadata": {},
   "source": [
    "### Load the standard libraries"
   ]
  },
  {
   "cell_type": "code",
   "execution_count": 2,
   "id": "549a9be4",
   "metadata": {},
   "outputs": [],
   "source": [
    "import pandas as pd\n",
    "import numpy as np\n",
    "import matplotlib.pyplot as plt\n",
    "import seaborn as sns\n",
    "import warnings\n",
    "warnings.filterwarnings('ignore')"
   ]
  },
  {
   "cell_type": "markdown",
   "id": "7e85f21c",
   "metadata": {},
   "source": [
    "## Load the data"
   ]
  },
  {
   "cell_type": "code",
   "execution_count": 3,
   "id": "74dcebe0",
   "metadata": {},
   "outputs": [
    {
     "data": {
      "text/html": [
       "<div>\n",
       "<style scoped>\n",
       "    .dataframe tbody tr th:only-of-type {\n",
       "        vertical-align: middle;\n",
       "    }\n",
       "\n",
       "    .dataframe tbody tr th {\n",
       "        vertical-align: top;\n",
       "    }\n",
       "\n",
       "    .dataframe thead th {\n",
       "        text-align: right;\n",
       "    }\n",
       "</style>\n",
       "<table border=\"1\" class=\"dataframe\">\n",
       "  <thead>\n",
       "    <tr style=\"text-align: right;\">\n",
       "      <th></th>\n",
       "      <th>Age</th>\n",
       "      <th>Purchased</th>\n",
       "    </tr>\n",
       "  </thead>\n",
       "  <tbody>\n",
       "    <tr>\n",
       "      <th>0</th>\n",
       "      <td>19</td>\n",
       "      <td>0</td>\n",
       "    </tr>\n",
       "    <tr>\n",
       "      <th>1</th>\n",
       "      <td>35</td>\n",
       "      <td>0</td>\n",
       "    </tr>\n",
       "    <tr>\n",
       "      <th>2</th>\n",
       "      <td>26</td>\n",
       "      <td>0</td>\n",
       "    </tr>\n",
       "    <tr>\n",
       "      <th>3</th>\n",
       "      <td>27</td>\n",
       "      <td>0</td>\n",
       "    </tr>\n",
       "    <tr>\n",
       "      <th>4</th>\n",
       "      <td>19</td>\n",
       "      <td>0</td>\n",
       "    </tr>\n",
       "  </tbody>\n",
       "</table>\n",
       "</div>"
      ],
      "text/plain": [
       "   Age  Purchased\n",
       "0   19          0\n",
       "1   35          0\n",
       "2   26          0\n",
       "3   27          0\n",
       "4   19          0"
      ]
     },
     "execution_count": 3,
     "metadata": {},
     "output_type": "execute_result"
    }
   ],
   "source": [
    "data = pd.read_csv('Health_Insurance.csv')\n",
    "data.head()"
   ]
  },
  {
   "cell_type": "markdown",
   "id": "73d568a8",
   "metadata": {},
   "source": [
    "## Seperate X and y"
   ]
  },
  {
   "cell_type": "code",
   "execution_count": 4,
   "id": "78e5a4a7",
   "metadata": {},
   "outputs": [],
   "source": [
    "X = data.drop('Purchased', axis = 1)\n",
    "y = data['Purchased']"
   ]
  },
  {
   "cell_type": "markdown",
   "id": "6e31ae88",
   "metadata": {},
   "source": [
    "### Split the data into train and test set"
   ]
  },
  {
   "cell_type": "code",
   "execution_count": 5,
   "id": "4f7a509e",
   "metadata": {},
   "outputs": [],
   "source": [
    "from sklearn.model_selection import train_test_split\n",
    "X_train, X_test, y_train, y_test = train_test_split(X, y, test_size = 0.2, random_state = 0)"
   ]
  },
  {
   "cell_type": "markdown",
   "id": "eff5e375",
   "metadata": {},
   "source": [
    "## Apply KNeighborsClassifier Algorithm on the data"
   ]
  },
  {
   "cell_type": "code",
   "execution_count": 7,
   "id": "d163983f",
   "metadata": {},
   "outputs": [
    {
     "data": {
      "text/html": [
       "<style>#sk-container-id-1 {color: black;background-color: white;}#sk-container-id-1 pre{padding: 0;}#sk-container-id-1 div.sk-toggleable {background-color: white;}#sk-container-id-1 label.sk-toggleable__label {cursor: pointer;display: block;width: 100%;margin-bottom: 0;padding: 0.3em;box-sizing: border-box;text-align: center;}#sk-container-id-1 label.sk-toggleable__label-arrow:before {content: \"▸\";float: left;margin-right: 0.25em;color: #696969;}#sk-container-id-1 label.sk-toggleable__label-arrow:hover:before {color: black;}#sk-container-id-1 div.sk-estimator:hover label.sk-toggleable__label-arrow:before {color: black;}#sk-container-id-1 div.sk-toggleable__content {max-height: 0;max-width: 0;overflow: hidden;text-align: left;background-color: #f0f8ff;}#sk-container-id-1 div.sk-toggleable__content pre {margin: 0.2em;color: black;border-radius: 0.25em;background-color: #f0f8ff;}#sk-container-id-1 input.sk-toggleable__control:checked~div.sk-toggleable__content {max-height: 200px;max-width: 100%;overflow: auto;}#sk-container-id-1 input.sk-toggleable__control:checked~label.sk-toggleable__label-arrow:before {content: \"▾\";}#sk-container-id-1 div.sk-estimator input.sk-toggleable__control:checked~label.sk-toggleable__label {background-color: #d4ebff;}#sk-container-id-1 div.sk-label input.sk-toggleable__control:checked~label.sk-toggleable__label {background-color: #d4ebff;}#sk-container-id-1 input.sk-hidden--visually {border: 0;clip: rect(1px 1px 1px 1px);clip: rect(1px, 1px, 1px, 1px);height: 1px;margin: -1px;overflow: hidden;padding: 0;position: absolute;width: 1px;}#sk-container-id-1 div.sk-estimator {font-family: monospace;background-color: #f0f8ff;border: 1px dotted black;border-radius: 0.25em;box-sizing: border-box;margin-bottom: 0.5em;}#sk-container-id-1 div.sk-estimator:hover {background-color: #d4ebff;}#sk-container-id-1 div.sk-parallel-item::after {content: \"\";width: 100%;border-bottom: 1px solid gray;flex-grow: 1;}#sk-container-id-1 div.sk-label:hover label.sk-toggleable__label {background-color: #d4ebff;}#sk-container-id-1 div.sk-serial::before {content: \"\";position: absolute;border-left: 1px solid gray;box-sizing: border-box;top: 0;bottom: 0;left: 50%;z-index: 0;}#sk-container-id-1 div.sk-serial {display: flex;flex-direction: column;align-items: center;background-color: white;padding-right: 0.2em;padding-left: 0.2em;position: relative;}#sk-container-id-1 div.sk-item {position: relative;z-index: 1;}#sk-container-id-1 div.sk-parallel {display: flex;align-items: stretch;justify-content: center;background-color: white;position: relative;}#sk-container-id-1 div.sk-item::before, #sk-container-id-1 div.sk-parallel-item::before {content: \"\";position: absolute;border-left: 1px solid gray;box-sizing: border-box;top: 0;bottom: 0;left: 50%;z-index: -1;}#sk-container-id-1 div.sk-parallel-item {display: flex;flex-direction: column;z-index: 1;position: relative;background-color: white;}#sk-container-id-1 div.sk-parallel-item:first-child::after {align-self: flex-end;width: 50%;}#sk-container-id-1 div.sk-parallel-item:last-child::after {align-self: flex-start;width: 50%;}#sk-container-id-1 div.sk-parallel-item:only-child::after {width: 0;}#sk-container-id-1 div.sk-dashed-wrapped {border: 1px dashed gray;margin: 0 0.4em 0.5em 0.4em;box-sizing: border-box;padding-bottom: 0.4em;background-color: white;}#sk-container-id-1 div.sk-label label {font-family: monospace;font-weight: bold;display: inline-block;line-height: 1.2em;}#sk-container-id-1 div.sk-label-container {text-align: center;}#sk-container-id-1 div.sk-container {/* jupyter's `normalize.less` sets `[hidden] { display: none; }` but bootstrap.min.css set `[hidden] { display: none !important; }` so we also need the `!important` here to be able to override the default hidden behavior on the sphinx rendered scikit-learn.org. See: https://github.com/scikit-learn/scikit-learn/issues/21755 */display: inline-block !important;position: relative;}#sk-container-id-1 div.sk-text-repr-fallback {display: none;}</style><div id=\"sk-container-id-1\" class=\"sk-top-container\"><div class=\"sk-text-repr-fallback\"><pre>KNeighborsClassifier()</pre><b>In a Jupyter environment, please rerun this cell to show the HTML representation or trust the notebook. <br />On GitHub, the HTML representation is unable to render, please try loading this page with nbviewer.org.</b></div><div class=\"sk-container\" hidden><div class=\"sk-item\"><div class=\"sk-estimator sk-toggleable\"><input class=\"sk-toggleable__control sk-hidden--visually\" id=\"sk-estimator-id-1\" type=\"checkbox\" checked><label for=\"sk-estimator-id-1\" class=\"sk-toggleable__label sk-toggleable__label-arrow\">KNeighborsClassifier</label><div class=\"sk-toggleable__content\"><pre>KNeighborsClassifier()</pre></div></div></div></div></div>"
      ],
      "text/plain": [
       "KNeighborsClassifier()"
      ]
     },
     "execution_count": 7,
     "metadata": {},
     "output_type": "execute_result"
    }
   ],
   "source": [
    "from sklearn.neighbors import KNeighborsClassifier\n",
    "knc = KNeighborsClassifier()   ### default parameter values are 5 neighbors and Euclidean distance\n",
    "knc"
   ]
  },
  {
   "cell_type": "code",
   "execution_count": 8,
   "id": "343c3170",
   "metadata": {},
   "outputs": [
    {
     "data": {
      "text/html": [
       "<style>#sk-container-id-2 {color: black;background-color: white;}#sk-container-id-2 pre{padding: 0;}#sk-container-id-2 div.sk-toggleable {background-color: white;}#sk-container-id-2 label.sk-toggleable__label {cursor: pointer;display: block;width: 100%;margin-bottom: 0;padding: 0.3em;box-sizing: border-box;text-align: center;}#sk-container-id-2 label.sk-toggleable__label-arrow:before {content: \"▸\";float: left;margin-right: 0.25em;color: #696969;}#sk-container-id-2 label.sk-toggleable__label-arrow:hover:before {color: black;}#sk-container-id-2 div.sk-estimator:hover label.sk-toggleable__label-arrow:before {color: black;}#sk-container-id-2 div.sk-toggleable__content {max-height: 0;max-width: 0;overflow: hidden;text-align: left;background-color: #f0f8ff;}#sk-container-id-2 div.sk-toggleable__content pre {margin: 0.2em;color: black;border-radius: 0.25em;background-color: #f0f8ff;}#sk-container-id-2 input.sk-toggleable__control:checked~div.sk-toggleable__content {max-height: 200px;max-width: 100%;overflow: auto;}#sk-container-id-2 input.sk-toggleable__control:checked~label.sk-toggleable__label-arrow:before {content: \"▾\";}#sk-container-id-2 div.sk-estimator input.sk-toggleable__control:checked~label.sk-toggleable__label {background-color: #d4ebff;}#sk-container-id-2 div.sk-label input.sk-toggleable__control:checked~label.sk-toggleable__label {background-color: #d4ebff;}#sk-container-id-2 input.sk-hidden--visually {border: 0;clip: rect(1px 1px 1px 1px);clip: rect(1px, 1px, 1px, 1px);height: 1px;margin: -1px;overflow: hidden;padding: 0;position: absolute;width: 1px;}#sk-container-id-2 div.sk-estimator {font-family: monospace;background-color: #f0f8ff;border: 1px dotted black;border-radius: 0.25em;box-sizing: border-box;margin-bottom: 0.5em;}#sk-container-id-2 div.sk-estimator:hover {background-color: #d4ebff;}#sk-container-id-2 div.sk-parallel-item::after {content: \"\";width: 100%;border-bottom: 1px solid gray;flex-grow: 1;}#sk-container-id-2 div.sk-label:hover label.sk-toggleable__label {background-color: #d4ebff;}#sk-container-id-2 div.sk-serial::before {content: \"\";position: absolute;border-left: 1px solid gray;box-sizing: border-box;top: 0;bottom: 0;left: 50%;z-index: 0;}#sk-container-id-2 div.sk-serial {display: flex;flex-direction: column;align-items: center;background-color: white;padding-right: 0.2em;padding-left: 0.2em;position: relative;}#sk-container-id-2 div.sk-item {position: relative;z-index: 1;}#sk-container-id-2 div.sk-parallel {display: flex;align-items: stretch;justify-content: center;background-color: white;position: relative;}#sk-container-id-2 div.sk-item::before, #sk-container-id-2 div.sk-parallel-item::before {content: \"\";position: absolute;border-left: 1px solid gray;box-sizing: border-box;top: 0;bottom: 0;left: 50%;z-index: -1;}#sk-container-id-2 div.sk-parallel-item {display: flex;flex-direction: column;z-index: 1;position: relative;background-color: white;}#sk-container-id-2 div.sk-parallel-item:first-child::after {align-self: flex-end;width: 50%;}#sk-container-id-2 div.sk-parallel-item:last-child::after {align-self: flex-start;width: 50%;}#sk-container-id-2 div.sk-parallel-item:only-child::after {width: 0;}#sk-container-id-2 div.sk-dashed-wrapped {border: 1px dashed gray;margin: 0 0.4em 0.5em 0.4em;box-sizing: border-box;padding-bottom: 0.4em;background-color: white;}#sk-container-id-2 div.sk-label label {font-family: monospace;font-weight: bold;display: inline-block;line-height: 1.2em;}#sk-container-id-2 div.sk-label-container {text-align: center;}#sk-container-id-2 div.sk-container {/* jupyter's `normalize.less` sets `[hidden] { display: none; }` but bootstrap.min.css set `[hidden] { display: none !important; }` so we also need the `!important` here to be able to override the default hidden behavior on the sphinx rendered scikit-learn.org. See: https://github.com/scikit-learn/scikit-learn/issues/21755 */display: inline-block !important;position: relative;}#sk-container-id-2 div.sk-text-repr-fallback {display: none;}</style><div id=\"sk-container-id-2\" class=\"sk-top-container\"><div class=\"sk-text-repr-fallback\"><pre>KNeighborsClassifier()</pre><b>In a Jupyter environment, please rerun this cell to show the HTML representation or trust the notebook. <br />On GitHub, the HTML representation is unable to render, please try loading this page with nbviewer.org.</b></div><div class=\"sk-container\" hidden><div class=\"sk-item\"><div class=\"sk-estimator sk-toggleable\"><input class=\"sk-toggleable__control sk-hidden--visually\" id=\"sk-estimator-id-2\" type=\"checkbox\" checked><label for=\"sk-estimator-id-2\" class=\"sk-toggleable__label sk-toggleable__label-arrow\">KNeighborsClassifier</label><div class=\"sk-toggleable__content\"><pre>KNeighborsClassifier()</pre></div></div></div></div></div>"
      ],
      "text/plain": [
       "KNeighborsClassifier()"
      ]
     },
     "execution_count": 8,
     "metadata": {},
     "output_type": "execute_result"
    }
   ],
   "source": [
    "knc.fit(X_train, y_train)"
   ]
  },
  {
   "cell_type": "markdown",
   "id": "bb2e2291",
   "metadata": {},
   "source": [
    "## Perform predictions on X_test"
   ]
  },
  {
   "cell_type": "code",
   "execution_count": 9,
   "id": "93300f9e",
   "metadata": {},
   "outputs": [
    {
     "data": {
      "text/plain": [
       "array([0, 0, 0, 0, 0, 0, 0, 0, 0, 1, 0, 0, 1, 1, 0, 1, 1, 0, 1, 0, 0, 1,\n",
       "       0, 1, 0, 1, 0, 0, 1, 1, 0, 1, 1, 1, 0, 0, 0, 0, 0, 1, 0, 0, 0, 0,\n",
       "       1, 0, 1, 1, 0, 1, 1, 0, 0, 0, 1, 1, 0, 0, 1, 0, 1, 1, 0, 0, 0, 1,\n",
       "       0, 0, 0, 1, 1, 0, 0, 1, 0, 0, 1, 0, 1, 1], dtype=int64)"
      ]
     },
     "execution_count": 9,
     "metadata": {},
     "output_type": "execute_result"
    }
   ],
   "source": [
    "y_pred = knc.predict(X_test)\n",
    "y_pred"
   ]
  },
  {
   "cell_type": "markdown",
   "id": "a0acc8a1",
   "metadata": {},
   "source": [
    "### Perform Evaluations"
   ]
  },
  {
   "cell_type": "code",
   "execution_count": 10,
   "id": "c59be563",
   "metadata": {},
   "outputs": [
    {
     "data": {
      "text/plain": [
       "0.825"
      ]
     },
     "execution_count": 10,
     "metadata": {},
     "output_type": "execute_result"
    }
   ],
   "source": [
    "from sklearn.metrics import accuracy_score\n",
    "accuracy_score(y_test, y_pred)"
   ]
  },
  {
   "cell_type": "markdown",
   "id": "3b6dd243",
   "metadata": {},
   "source": [
    "#### Note:\n",
    "Since, KNeighborsClassifier is applied on the data, the accuracy we get is 82.5% when the n_neighbors in KNC is 5 and distance metric used is Euclidean distance."
   ]
  },
  {
   "cell_type": "markdown",
   "id": "26bf22c2",
   "metadata": {},
   "source": [
    "# Hyperparameter Tuning:\n",
    "\n",
    "- To figure out excatly at what value of n_neigbors and distance metric does the KNeighborsClassifier Algorithm perform better?"
   ]
  },
  {
   "cell_type": "code",
   "execution_count": 18,
   "id": "69af051b",
   "metadata": {},
   "outputs": [],
   "source": [
    "from sklearn.neighbors import KNeighborsClassifier\n",
    "knc = KNeighborsClassifier()\n",
    "\n",
    "### Hyperparameter optimization\n",
    "parameters = {'n_neighbors' : [3, 5, 7, 9, 11, 13, 15, 17, 19, 21]}"
   ]
  },
  {
   "cell_type": "markdown",
   "id": "7387d979",
   "metadata": {},
   "source": [
    "### To apply the KNeighborsClassifier on the data with different value of n_neighbors we use the a function called GridSearchCV"
   ]
  },
  {
   "cell_type": "code",
   "execution_count": 19,
   "id": "018d4e35",
   "metadata": {},
   "outputs": [
    {
     "data": {
      "text/html": [
       "<style>#sk-container-id-5 {color: black;background-color: white;}#sk-container-id-5 pre{padding: 0;}#sk-container-id-5 div.sk-toggleable {background-color: white;}#sk-container-id-5 label.sk-toggleable__label {cursor: pointer;display: block;width: 100%;margin-bottom: 0;padding: 0.3em;box-sizing: border-box;text-align: center;}#sk-container-id-5 label.sk-toggleable__label-arrow:before {content: \"▸\";float: left;margin-right: 0.25em;color: #696969;}#sk-container-id-5 label.sk-toggleable__label-arrow:hover:before {color: black;}#sk-container-id-5 div.sk-estimator:hover label.sk-toggleable__label-arrow:before {color: black;}#sk-container-id-5 div.sk-toggleable__content {max-height: 0;max-width: 0;overflow: hidden;text-align: left;background-color: #f0f8ff;}#sk-container-id-5 div.sk-toggleable__content pre {margin: 0.2em;color: black;border-radius: 0.25em;background-color: #f0f8ff;}#sk-container-id-5 input.sk-toggleable__control:checked~div.sk-toggleable__content {max-height: 200px;max-width: 100%;overflow: auto;}#sk-container-id-5 input.sk-toggleable__control:checked~label.sk-toggleable__label-arrow:before {content: \"▾\";}#sk-container-id-5 div.sk-estimator input.sk-toggleable__control:checked~label.sk-toggleable__label {background-color: #d4ebff;}#sk-container-id-5 div.sk-label input.sk-toggleable__control:checked~label.sk-toggleable__label {background-color: #d4ebff;}#sk-container-id-5 input.sk-hidden--visually {border: 0;clip: rect(1px 1px 1px 1px);clip: rect(1px, 1px, 1px, 1px);height: 1px;margin: -1px;overflow: hidden;padding: 0;position: absolute;width: 1px;}#sk-container-id-5 div.sk-estimator {font-family: monospace;background-color: #f0f8ff;border: 1px dotted black;border-radius: 0.25em;box-sizing: border-box;margin-bottom: 0.5em;}#sk-container-id-5 div.sk-estimator:hover {background-color: #d4ebff;}#sk-container-id-5 div.sk-parallel-item::after {content: \"\";width: 100%;border-bottom: 1px solid gray;flex-grow: 1;}#sk-container-id-5 div.sk-label:hover label.sk-toggleable__label {background-color: #d4ebff;}#sk-container-id-5 div.sk-serial::before {content: \"\";position: absolute;border-left: 1px solid gray;box-sizing: border-box;top: 0;bottom: 0;left: 50%;z-index: 0;}#sk-container-id-5 div.sk-serial {display: flex;flex-direction: column;align-items: center;background-color: white;padding-right: 0.2em;padding-left: 0.2em;position: relative;}#sk-container-id-5 div.sk-item {position: relative;z-index: 1;}#sk-container-id-5 div.sk-parallel {display: flex;align-items: stretch;justify-content: center;background-color: white;position: relative;}#sk-container-id-5 div.sk-item::before, #sk-container-id-5 div.sk-parallel-item::before {content: \"\";position: absolute;border-left: 1px solid gray;box-sizing: border-box;top: 0;bottom: 0;left: 50%;z-index: -1;}#sk-container-id-5 div.sk-parallel-item {display: flex;flex-direction: column;z-index: 1;position: relative;background-color: white;}#sk-container-id-5 div.sk-parallel-item:first-child::after {align-self: flex-end;width: 50%;}#sk-container-id-5 div.sk-parallel-item:last-child::after {align-self: flex-start;width: 50%;}#sk-container-id-5 div.sk-parallel-item:only-child::after {width: 0;}#sk-container-id-5 div.sk-dashed-wrapped {border: 1px dashed gray;margin: 0 0.4em 0.5em 0.4em;box-sizing: border-box;padding-bottom: 0.4em;background-color: white;}#sk-container-id-5 div.sk-label label {font-family: monospace;font-weight: bold;display: inline-block;line-height: 1.2em;}#sk-container-id-5 div.sk-label-container {text-align: center;}#sk-container-id-5 div.sk-container {/* jupyter's `normalize.less` sets `[hidden] { display: none; }` but bootstrap.min.css set `[hidden] { display: none !important; }` so we also need the `!important` here to be able to override the default hidden behavior on the sphinx rendered scikit-learn.org. See: https://github.com/scikit-learn/scikit-learn/issues/21755 */display: inline-block !important;position: relative;}#sk-container-id-5 div.sk-text-repr-fallback {display: none;}</style><div id=\"sk-container-id-5\" class=\"sk-top-container\"><div class=\"sk-text-repr-fallback\"><pre>GridSearchCV(estimator=KNeighborsClassifier(),\n",
       "             param_grid={&#x27;n_neighbors&#x27;: [3, 5, 7, 9, 11, 13, 15, 17, 19, 21]})</pre><b>In a Jupyter environment, please rerun this cell to show the HTML representation or trust the notebook. <br />On GitHub, the HTML representation is unable to render, please try loading this page with nbviewer.org.</b></div><div class=\"sk-container\" hidden><div class=\"sk-item sk-dashed-wrapped\"><div class=\"sk-label-container\"><div class=\"sk-label sk-toggleable\"><input class=\"sk-toggleable__control sk-hidden--visually\" id=\"sk-estimator-id-9\" type=\"checkbox\" ><label for=\"sk-estimator-id-9\" class=\"sk-toggleable__label sk-toggleable__label-arrow\">GridSearchCV</label><div class=\"sk-toggleable__content\"><pre>GridSearchCV(estimator=KNeighborsClassifier(),\n",
       "             param_grid={&#x27;n_neighbors&#x27;: [3, 5, 7, 9, 11, 13, 15, 17, 19, 21]})</pre></div></div></div><div class=\"sk-parallel\"><div class=\"sk-parallel-item\"><div class=\"sk-item\"><div class=\"sk-label-container\"><div class=\"sk-label sk-toggleable\"><input class=\"sk-toggleable__control sk-hidden--visually\" id=\"sk-estimator-id-10\" type=\"checkbox\" ><label for=\"sk-estimator-id-10\" class=\"sk-toggleable__label sk-toggleable__label-arrow\">estimator: KNeighborsClassifier</label><div class=\"sk-toggleable__content\"><pre>KNeighborsClassifier()</pre></div></div></div><div class=\"sk-serial\"><div class=\"sk-item\"><div class=\"sk-estimator sk-toggleable\"><input class=\"sk-toggleable__control sk-hidden--visually\" id=\"sk-estimator-id-11\" type=\"checkbox\" ><label for=\"sk-estimator-id-11\" class=\"sk-toggleable__label sk-toggleable__label-arrow\">KNeighborsClassifier</label><div class=\"sk-toggleable__content\"><pre>KNeighborsClassifier()</pre></div></div></div></div></div></div></div></div></div></div>"
      ],
      "text/plain": [
       "GridSearchCV(estimator=KNeighborsClassifier(),\n",
       "             param_grid={'n_neighbors': [3, 5, 7, 9, 11, 13, 15, 17, 19, 21]})"
      ]
     },
     "execution_count": 19,
     "metadata": {},
     "output_type": "execute_result"
    }
   ],
   "source": [
    "from sklearn.model_selection import GridSearchCV\n",
    "gscv = GridSearchCV(knc, parameters)\n",
    "gscv"
   ]
  },
  {
   "cell_type": "code",
   "execution_count": 20,
   "id": "0a373508",
   "metadata": {},
   "outputs": [
    {
     "data": {
      "text/html": [
       "<style>#sk-container-id-6 {color: black;background-color: white;}#sk-container-id-6 pre{padding: 0;}#sk-container-id-6 div.sk-toggleable {background-color: white;}#sk-container-id-6 label.sk-toggleable__label {cursor: pointer;display: block;width: 100%;margin-bottom: 0;padding: 0.3em;box-sizing: border-box;text-align: center;}#sk-container-id-6 label.sk-toggleable__label-arrow:before {content: \"▸\";float: left;margin-right: 0.25em;color: #696969;}#sk-container-id-6 label.sk-toggleable__label-arrow:hover:before {color: black;}#sk-container-id-6 div.sk-estimator:hover label.sk-toggleable__label-arrow:before {color: black;}#sk-container-id-6 div.sk-toggleable__content {max-height: 0;max-width: 0;overflow: hidden;text-align: left;background-color: #f0f8ff;}#sk-container-id-6 div.sk-toggleable__content pre {margin: 0.2em;color: black;border-radius: 0.25em;background-color: #f0f8ff;}#sk-container-id-6 input.sk-toggleable__control:checked~div.sk-toggleable__content {max-height: 200px;max-width: 100%;overflow: auto;}#sk-container-id-6 input.sk-toggleable__control:checked~label.sk-toggleable__label-arrow:before {content: \"▾\";}#sk-container-id-6 div.sk-estimator input.sk-toggleable__control:checked~label.sk-toggleable__label {background-color: #d4ebff;}#sk-container-id-6 div.sk-label input.sk-toggleable__control:checked~label.sk-toggleable__label {background-color: #d4ebff;}#sk-container-id-6 input.sk-hidden--visually {border: 0;clip: rect(1px 1px 1px 1px);clip: rect(1px, 1px, 1px, 1px);height: 1px;margin: -1px;overflow: hidden;padding: 0;position: absolute;width: 1px;}#sk-container-id-6 div.sk-estimator {font-family: monospace;background-color: #f0f8ff;border: 1px dotted black;border-radius: 0.25em;box-sizing: border-box;margin-bottom: 0.5em;}#sk-container-id-6 div.sk-estimator:hover {background-color: #d4ebff;}#sk-container-id-6 div.sk-parallel-item::after {content: \"\";width: 100%;border-bottom: 1px solid gray;flex-grow: 1;}#sk-container-id-6 div.sk-label:hover label.sk-toggleable__label {background-color: #d4ebff;}#sk-container-id-6 div.sk-serial::before {content: \"\";position: absolute;border-left: 1px solid gray;box-sizing: border-box;top: 0;bottom: 0;left: 50%;z-index: 0;}#sk-container-id-6 div.sk-serial {display: flex;flex-direction: column;align-items: center;background-color: white;padding-right: 0.2em;padding-left: 0.2em;position: relative;}#sk-container-id-6 div.sk-item {position: relative;z-index: 1;}#sk-container-id-6 div.sk-parallel {display: flex;align-items: stretch;justify-content: center;background-color: white;position: relative;}#sk-container-id-6 div.sk-item::before, #sk-container-id-6 div.sk-parallel-item::before {content: \"\";position: absolute;border-left: 1px solid gray;box-sizing: border-box;top: 0;bottom: 0;left: 50%;z-index: -1;}#sk-container-id-6 div.sk-parallel-item {display: flex;flex-direction: column;z-index: 1;position: relative;background-color: white;}#sk-container-id-6 div.sk-parallel-item:first-child::after {align-self: flex-end;width: 50%;}#sk-container-id-6 div.sk-parallel-item:last-child::after {align-self: flex-start;width: 50%;}#sk-container-id-6 div.sk-parallel-item:only-child::after {width: 0;}#sk-container-id-6 div.sk-dashed-wrapped {border: 1px dashed gray;margin: 0 0.4em 0.5em 0.4em;box-sizing: border-box;padding-bottom: 0.4em;background-color: white;}#sk-container-id-6 div.sk-label label {font-family: monospace;font-weight: bold;display: inline-block;line-height: 1.2em;}#sk-container-id-6 div.sk-label-container {text-align: center;}#sk-container-id-6 div.sk-container {/* jupyter's `normalize.less` sets `[hidden] { display: none; }` but bootstrap.min.css set `[hidden] { display: none !important; }` so we also need the `!important` here to be able to override the default hidden behavior on the sphinx rendered scikit-learn.org. See: https://github.com/scikit-learn/scikit-learn/issues/21755 */display: inline-block !important;position: relative;}#sk-container-id-6 div.sk-text-repr-fallback {display: none;}</style><div id=\"sk-container-id-6\" class=\"sk-top-container\"><div class=\"sk-text-repr-fallback\"><pre>GridSearchCV(estimator=KNeighborsClassifier(),\n",
       "             param_grid={&#x27;n_neighbors&#x27;: [3, 5, 7, 9, 11, 13, 15, 17, 19, 21]})</pre><b>In a Jupyter environment, please rerun this cell to show the HTML representation or trust the notebook. <br />On GitHub, the HTML representation is unable to render, please try loading this page with nbviewer.org.</b></div><div class=\"sk-container\" hidden><div class=\"sk-item sk-dashed-wrapped\"><div class=\"sk-label-container\"><div class=\"sk-label sk-toggleable\"><input class=\"sk-toggleable__control sk-hidden--visually\" id=\"sk-estimator-id-12\" type=\"checkbox\" ><label for=\"sk-estimator-id-12\" class=\"sk-toggleable__label sk-toggleable__label-arrow\">GridSearchCV</label><div class=\"sk-toggleable__content\"><pre>GridSearchCV(estimator=KNeighborsClassifier(),\n",
       "             param_grid={&#x27;n_neighbors&#x27;: [3, 5, 7, 9, 11, 13, 15, 17, 19, 21]})</pre></div></div></div><div class=\"sk-parallel\"><div class=\"sk-parallel-item\"><div class=\"sk-item\"><div class=\"sk-label-container\"><div class=\"sk-label sk-toggleable\"><input class=\"sk-toggleable__control sk-hidden--visually\" id=\"sk-estimator-id-13\" type=\"checkbox\" ><label for=\"sk-estimator-id-13\" class=\"sk-toggleable__label sk-toggleable__label-arrow\">estimator: KNeighborsClassifier</label><div class=\"sk-toggleable__content\"><pre>KNeighborsClassifier()</pre></div></div></div><div class=\"sk-serial\"><div class=\"sk-item\"><div class=\"sk-estimator sk-toggleable\"><input class=\"sk-toggleable__control sk-hidden--visually\" id=\"sk-estimator-id-14\" type=\"checkbox\" ><label for=\"sk-estimator-id-14\" class=\"sk-toggleable__label sk-toggleable__label-arrow\">KNeighborsClassifier</label><div class=\"sk-toggleable__content\"><pre>KNeighborsClassifier()</pre></div></div></div></div></div></div></div></div></div></div>"
      ],
      "text/plain": [
       "GridSearchCV(estimator=KNeighborsClassifier(),\n",
       "             param_grid={'n_neighbors': [3, 5, 7, 9, 11, 13, 15, 17, 19, 21]})"
      ]
     },
     "execution_count": 20,
     "metadata": {},
     "output_type": "execute_result"
    }
   ],
   "source": [
    "gscv.fit(X_train, y_train)"
   ]
  },
  {
   "cell_type": "code",
   "execution_count": 21,
   "id": "c1b54d19",
   "metadata": {},
   "outputs": [
    {
     "data": {
      "text/plain": [
       "{'mean_fit_time': array([0.00315514, 0.00339098, 0.00328689, 0.00227342, 0.00238938,\n",
       "        0.00208535, 0.00217776, 0.00209789, 0.00205932, 0.00245786]),\n",
       " 'std_fit_time': array([0.00084826, 0.00094638, 0.00139289, 0.00049971, 0.00063912,\n",
       "        0.00032821, 0.00019087, 0.00044403, 0.00055071, 0.00022895]),\n",
       " 'mean_score_time': array([0.00648646, 0.00670638, 0.00502601, 0.00465798, 0.00456047,\n",
       "        0.00448565, 0.00467649, 0.00485244, 0.00454884, 0.00446653]),\n",
       " 'std_score_time': array([0.00137384, 0.00194152, 0.00108306, 0.00065522, 0.00032069,\n",
       "        0.00021238, 0.00055169, 0.00035615, 0.00090963, 0.00028569]),\n",
       " 'param_n_neighbors': masked_array(data=[3, 5, 7, 9, 11, 13, 15, 17, 19, 21],\n",
       "              mask=[False, False, False, False, False, False, False, False,\n",
       "                    False, False],\n",
       "        fill_value='?',\n",
       "             dtype=object),\n",
       " 'params': [{'n_neighbors': 3},\n",
       "  {'n_neighbors': 5},\n",
       "  {'n_neighbors': 7},\n",
       "  {'n_neighbors': 9},\n",
       "  {'n_neighbors': 11},\n",
       "  {'n_neighbors': 13},\n",
       "  {'n_neighbors': 15},\n",
       "  {'n_neighbors': 17},\n",
       "  {'n_neighbors': 19},\n",
       "  {'n_neighbors': 21}],\n",
       " 'split0_test_score': array([0.765625, 0.765625, 0.78125 , 0.765625, 0.78125 , 0.78125 ,\n",
       "        0.765625, 0.765625, 0.765625, 0.765625]),\n",
       " 'split1_test_score': array([0.71875 , 0.75    , 0.75    , 0.765625, 0.765625, 0.765625,\n",
       "        0.765625, 0.765625, 0.765625, 0.765625]),\n",
       " 'split2_test_score': array([0.6875  , 0.8125  , 0.765625, 0.71875 , 0.78125 , 0.828125,\n",
       "        0.828125, 0.828125, 0.828125, 0.828125]),\n",
       " 'split3_test_score': array([0.78125 , 0.796875, 0.8125  , 0.796875, 0.796875, 0.8125  ,\n",
       "        0.8125  , 0.8125  , 0.8125  , 0.8125  ]),\n",
       " 'split4_test_score': array([0.8125  , 0.890625, 0.890625, 0.890625, 0.90625 , 0.90625 ,\n",
       "        0.90625 , 0.90625 , 0.90625 , 0.90625 ]),\n",
       " 'mean_test_score': array([0.753125, 0.803125, 0.8     , 0.7875  , 0.80625 , 0.81875 ,\n",
       "        0.815625, 0.815625, 0.815625, 0.815625]),\n",
       " 'std_test_score': array([0.04463393, 0.04901371, 0.0498043 , 0.0572822 , 0.05096721,\n",
       "        0.04901371, 0.05172795, 0.05172795, 0.05172795, 0.05172795]),\n",
       " 'rank_test_score': array([10,  7,  8,  9,  6,  1,  2,  2,  2,  2])}"
      ]
     },
     "execution_count": 21,
     "metadata": {},
     "output_type": "execute_result"
    }
   ],
   "source": [
    "gscv.cv_results_"
   ]
  },
  {
   "cell_type": "code",
   "execution_count": 22,
   "id": "29e2f7f2",
   "metadata": {},
   "outputs": [
    {
     "data": {
      "text/html": [
       "<div>\n",
       "<style scoped>\n",
       "    .dataframe tbody tr th:only-of-type {\n",
       "        vertical-align: middle;\n",
       "    }\n",
       "\n",
       "    .dataframe tbody tr th {\n",
       "        vertical-align: top;\n",
       "    }\n",
       "\n",
       "    .dataframe thead th {\n",
       "        text-align: right;\n",
       "    }\n",
       "</style>\n",
       "<table border=\"1\" class=\"dataframe\">\n",
       "  <thead>\n",
       "    <tr style=\"text-align: right;\">\n",
       "      <th></th>\n",
       "      <th>params</th>\n",
       "      <th>mean_test_score</th>\n",
       "      <th>rank_test_score</th>\n",
       "    </tr>\n",
       "  </thead>\n",
       "  <tbody>\n",
       "    <tr>\n",
       "      <th>0</th>\n",
       "      <td>{'n_neighbors': 3}</td>\n",
       "      <td>0.753125</td>\n",
       "      <td>10</td>\n",
       "    </tr>\n",
       "    <tr>\n",
       "      <th>1</th>\n",
       "      <td>{'n_neighbors': 5}</td>\n",
       "      <td>0.803125</td>\n",
       "      <td>7</td>\n",
       "    </tr>\n",
       "    <tr>\n",
       "      <th>2</th>\n",
       "      <td>{'n_neighbors': 7}</td>\n",
       "      <td>0.800000</td>\n",
       "      <td>8</td>\n",
       "    </tr>\n",
       "    <tr>\n",
       "      <th>3</th>\n",
       "      <td>{'n_neighbors': 9}</td>\n",
       "      <td>0.787500</td>\n",
       "      <td>9</td>\n",
       "    </tr>\n",
       "    <tr>\n",
       "      <th>4</th>\n",
       "      <td>{'n_neighbors': 11}</td>\n",
       "      <td>0.806250</td>\n",
       "      <td>6</td>\n",
       "    </tr>\n",
       "    <tr>\n",
       "      <th>5</th>\n",
       "      <td>{'n_neighbors': 13}</td>\n",
       "      <td>0.818750</td>\n",
       "      <td>1</td>\n",
       "    </tr>\n",
       "    <tr>\n",
       "      <th>6</th>\n",
       "      <td>{'n_neighbors': 15}</td>\n",
       "      <td>0.815625</td>\n",
       "      <td>2</td>\n",
       "    </tr>\n",
       "    <tr>\n",
       "      <th>7</th>\n",
       "      <td>{'n_neighbors': 17}</td>\n",
       "      <td>0.815625</td>\n",
       "      <td>2</td>\n",
       "    </tr>\n",
       "    <tr>\n",
       "      <th>8</th>\n",
       "      <td>{'n_neighbors': 19}</td>\n",
       "      <td>0.815625</td>\n",
       "      <td>2</td>\n",
       "    </tr>\n",
       "    <tr>\n",
       "      <th>9</th>\n",
       "      <td>{'n_neighbors': 21}</td>\n",
       "      <td>0.815625</td>\n",
       "      <td>2</td>\n",
       "    </tr>\n",
       "  </tbody>\n",
       "</table>\n",
       "</div>"
      ],
      "text/plain": [
       "                params  mean_test_score  rank_test_score\n",
       "0   {'n_neighbors': 3}         0.753125               10\n",
       "1   {'n_neighbors': 5}         0.803125                7\n",
       "2   {'n_neighbors': 7}         0.800000                8\n",
       "3   {'n_neighbors': 9}         0.787500                9\n",
       "4  {'n_neighbors': 11}         0.806250                6\n",
       "5  {'n_neighbors': 13}         0.818750                1\n",
       "6  {'n_neighbors': 15}         0.815625                2\n",
       "7  {'n_neighbors': 17}         0.815625                2\n",
       "8  {'n_neighbors': 19}         0.815625                2\n",
       "9  {'n_neighbors': 21}         0.815625                2"
      ]
     },
     "execution_count": 22,
     "metadata": {},
     "output_type": "execute_result"
    }
   ],
   "source": [
    "res = pd.DataFrame(gscv.cv_results_)\n",
    "res[['params', 'mean_test_score', 'rank_test_score']]"
   ]
  },
  {
   "cell_type": "markdown",
   "id": "61174f53",
   "metadata": {},
   "source": [
    "#### At k = 13 the KNN algorithm is performing better on the data. Hence the optimized value of hyperparameter k is 13.\n",
    "\n",
    "- When the k value is 15 and above the accuracy stops increasing or is constant at k = 15, k = 17, k = 19 etc. This indicates that k = 15 and below is the one where the accuracy is changing"
   ]
  },
  {
   "cell_type": "markdown",
   "id": "f6a25aea",
   "metadata": {},
   "source": [
    "When the k = 13, for k = 13 weather Euclidean distance perform better or Manhattan distance perform better"
   ]
  },
  {
   "cell_type": "code",
   "execution_count": 24,
   "id": "e4d581b0",
   "metadata": {},
   "outputs": [],
   "source": [
    "from sklearn.neighbors import KNeighborsClassifier\n",
    "knc = KNeighborsClassifier()\n",
    "\n",
    "## Hyperparameter optimization\n",
    "parameters = {'n_neighbors' : [3, 5, 7, 9, 11, 13, 15, 17], 'p' : [1, 2]}"
   ]
  },
  {
   "cell_type": "code",
   "execution_count": 25,
   "id": "e7d931a8",
   "metadata": {},
   "outputs": [
    {
     "data": {
      "text/html": [
       "<style>#sk-container-id-7 {color: black;background-color: white;}#sk-container-id-7 pre{padding: 0;}#sk-container-id-7 div.sk-toggleable {background-color: white;}#sk-container-id-7 label.sk-toggleable__label {cursor: pointer;display: block;width: 100%;margin-bottom: 0;padding: 0.3em;box-sizing: border-box;text-align: center;}#sk-container-id-7 label.sk-toggleable__label-arrow:before {content: \"▸\";float: left;margin-right: 0.25em;color: #696969;}#sk-container-id-7 label.sk-toggleable__label-arrow:hover:before {color: black;}#sk-container-id-7 div.sk-estimator:hover label.sk-toggleable__label-arrow:before {color: black;}#sk-container-id-7 div.sk-toggleable__content {max-height: 0;max-width: 0;overflow: hidden;text-align: left;background-color: #f0f8ff;}#sk-container-id-7 div.sk-toggleable__content pre {margin: 0.2em;color: black;border-radius: 0.25em;background-color: #f0f8ff;}#sk-container-id-7 input.sk-toggleable__control:checked~div.sk-toggleable__content {max-height: 200px;max-width: 100%;overflow: auto;}#sk-container-id-7 input.sk-toggleable__control:checked~label.sk-toggleable__label-arrow:before {content: \"▾\";}#sk-container-id-7 div.sk-estimator input.sk-toggleable__control:checked~label.sk-toggleable__label {background-color: #d4ebff;}#sk-container-id-7 div.sk-label input.sk-toggleable__control:checked~label.sk-toggleable__label {background-color: #d4ebff;}#sk-container-id-7 input.sk-hidden--visually {border: 0;clip: rect(1px 1px 1px 1px);clip: rect(1px, 1px, 1px, 1px);height: 1px;margin: -1px;overflow: hidden;padding: 0;position: absolute;width: 1px;}#sk-container-id-7 div.sk-estimator {font-family: monospace;background-color: #f0f8ff;border: 1px dotted black;border-radius: 0.25em;box-sizing: border-box;margin-bottom: 0.5em;}#sk-container-id-7 div.sk-estimator:hover {background-color: #d4ebff;}#sk-container-id-7 div.sk-parallel-item::after {content: \"\";width: 100%;border-bottom: 1px solid gray;flex-grow: 1;}#sk-container-id-7 div.sk-label:hover label.sk-toggleable__label {background-color: #d4ebff;}#sk-container-id-7 div.sk-serial::before {content: \"\";position: absolute;border-left: 1px solid gray;box-sizing: border-box;top: 0;bottom: 0;left: 50%;z-index: 0;}#sk-container-id-7 div.sk-serial {display: flex;flex-direction: column;align-items: center;background-color: white;padding-right: 0.2em;padding-left: 0.2em;position: relative;}#sk-container-id-7 div.sk-item {position: relative;z-index: 1;}#sk-container-id-7 div.sk-parallel {display: flex;align-items: stretch;justify-content: center;background-color: white;position: relative;}#sk-container-id-7 div.sk-item::before, #sk-container-id-7 div.sk-parallel-item::before {content: \"\";position: absolute;border-left: 1px solid gray;box-sizing: border-box;top: 0;bottom: 0;left: 50%;z-index: -1;}#sk-container-id-7 div.sk-parallel-item {display: flex;flex-direction: column;z-index: 1;position: relative;background-color: white;}#sk-container-id-7 div.sk-parallel-item:first-child::after {align-self: flex-end;width: 50%;}#sk-container-id-7 div.sk-parallel-item:last-child::after {align-self: flex-start;width: 50%;}#sk-container-id-7 div.sk-parallel-item:only-child::after {width: 0;}#sk-container-id-7 div.sk-dashed-wrapped {border: 1px dashed gray;margin: 0 0.4em 0.5em 0.4em;box-sizing: border-box;padding-bottom: 0.4em;background-color: white;}#sk-container-id-7 div.sk-label label {font-family: monospace;font-weight: bold;display: inline-block;line-height: 1.2em;}#sk-container-id-7 div.sk-label-container {text-align: center;}#sk-container-id-7 div.sk-container {/* jupyter's `normalize.less` sets `[hidden] { display: none; }` but bootstrap.min.css set `[hidden] { display: none !important; }` so we also need the `!important` here to be able to override the default hidden behavior on the sphinx rendered scikit-learn.org. See: https://github.com/scikit-learn/scikit-learn/issues/21755 */display: inline-block !important;position: relative;}#sk-container-id-7 div.sk-text-repr-fallback {display: none;}</style><div id=\"sk-container-id-7\" class=\"sk-top-container\"><div class=\"sk-text-repr-fallback\"><pre>GridSearchCV(estimator=KNeighborsClassifier(),\n",
       "             param_grid={&#x27;n_neighbors&#x27;: [3, 5, 7, 9, 11, 13, 15, 17],\n",
       "                         &#x27;p&#x27;: [1, 2]})</pre><b>In a Jupyter environment, please rerun this cell to show the HTML representation or trust the notebook. <br />On GitHub, the HTML representation is unable to render, please try loading this page with nbviewer.org.</b></div><div class=\"sk-container\" hidden><div class=\"sk-item sk-dashed-wrapped\"><div class=\"sk-label-container\"><div class=\"sk-label sk-toggleable\"><input class=\"sk-toggleable__control sk-hidden--visually\" id=\"sk-estimator-id-15\" type=\"checkbox\" ><label for=\"sk-estimator-id-15\" class=\"sk-toggleable__label sk-toggleable__label-arrow\">GridSearchCV</label><div class=\"sk-toggleable__content\"><pre>GridSearchCV(estimator=KNeighborsClassifier(),\n",
       "             param_grid={&#x27;n_neighbors&#x27;: [3, 5, 7, 9, 11, 13, 15, 17],\n",
       "                         &#x27;p&#x27;: [1, 2]})</pre></div></div></div><div class=\"sk-parallel\"><div class=\"sk-parallel-item\"><div class=\"sk-item\"><div class=\"sk-label-container\"><div class=\"sk-label sk-toggleable\"><input class=\"sk-toggleable__control sk-hidden--visually\" id=\"sk-estimator-id-16\" type=\"checkbox\" ><label for=\"sk-estimator-id-16\" class=\"sk-toggleable__label sk-toggleable__label-arrow\">estimator: KNeighborsClassifier</label><div class=\"sk-toggleable__content\"><pre>KNeighborsClassifier()</pre></div></div></div><div class=\"sk-serial\"><div class=\"sk-item\"><div class=\"sk-estimator sk-toggleable\"><input class=\"sk-toggleable__control sk-hidden--visually\" id=\"sk-estimator-id-17\" type=\"checkbox\" ><label for=\"sk-estimator-id-17\" class=\"sk-toggleable__label sk-toggleable__label-arrow\">KNeighborsClassifier</label><div class=\"sk-toggleable__content\"><pre>KNeighborsClassifier()</pre></div></div></div></div></div></div></div></div></div></div>"
      ],
      "text/plain": [
       "GridSearchCV(estimator=KNeighborsClassifier(),\n",
       "             param_grid={'n_neighbors': [3, 5, 7, 9, 11, 13, 15, 17],\n",
       "                         'p': [1, 2]})"
      ]
     },
     "execution_count": 25,
     "metadata": {},
     "output_type": "execute_result"
    }
   ],
   "source": [
    "from sklearn.model_selection import GridSearchCV\n",
    "gscv = GridSearchCV(knc, parameters)\n",
    "gscv"
   ]
  },
  {
   "cell_type": "code",
   "execution_count": 26,
   "id": "4fa79439",
   "metadata": {},
   "outputs": [
    {
     "data": {
      "text/html": [
       "<style>#sk-container-id-8 {color: black;background-color: white;}#sk-container-id-8 pre{padding: 0;}#sk-container-id-8 div.sk-toggleable {background-color: white;}#sk-container-id-8 label.sk-toggleable__label {cursor: pointer;display: block;width: 100%;margin-bottom: 0;padding: 0.3em;box-sizing: border-box;text-align: center;}#sk-container-id-8 label.sk-toggleable__label-arrow:before {content: \"▸\";float: left;margin-right: 0.25em;color: #696969;}#sk-container-id-8 label.sk-toggleable__label-arrow:hover:before {color: black;}#sk-container-id-8 div.sk-estimator:hover label.sk-toggleable__label-arrow:before {color: black;}#sk-container-id-8 div.sk-toggleable__content {max-height: 0;max-width: 0;overflow: hidden;text-align: left;background-color: #f0f8ff;}#sk-container-id-8 div.sk-toggleable__content pre {margin: 0.2em;color: black;border-radius: 0.25em;background-color: #f0f8ff;}#sk-container-id-8 input.sk-toggleable__control:checked~div.sk-toggleable__content {max-height: 200px;max-width: 100%;overflow: auto;}#sk-container-id-8 input.sk-toggleable__control:checked~label.sk-toggleable__label-arrow:before {content: \"▾\";}#sk-container-id-8 div.sk-estimator input.sk-toggleable__control:checked~label.sk-toggleable__label {background-color: #d4ebff;}#sk-container-id-8 div.sk-label input.sk-toggleable__control:checked~label.sk-toggleable__label {background-color: #d4ebff;}#sk-container-id-8 input.sk-hidden--visually {border: 0;clip: rect(1px 1px 1px 1px);clip: rect(1px, 1px, 1px, 1px);height: 1px;margin: -1px;overflow: hidden;padding: 0;position: absolute;width: 1px;}#sk-container-id-8 div.sk-estimator {font-family: monospace;background-color: #f0f8ff;border: 1px dotted black;border-radius: 0.25em;box-sizing: border-box;margin-bottom: 0.5em;}#sk-container-id-8 div.sk-estimator:hover {background-color: #d4ebff;}#sk-container-id-8 div.sk-parallel-item::after {content: \"\";width: 100%;border-bottom: 1px solid gray;flex-grow: 1;}#sk-container-id-8 div.sk-label:hover label.sk-toggleable__label {background-color: #d4ebff;}#sk-container-id-8 div.sk-serial::before {content: \"\";position: absolute;border-left: 1px solid gray;box-sizing: border-box;top: 0;bottom: 0;left: 50%;z-index: 0;}#sk-container-id-8 div.sk-serial {display: flex;flex-direction: column;align-items: center;background-color: white;padding-right: 0.2em;padding-left: 0.2em;position: relative;}#sk-container-id-8 div.sk-item {position: relative;z-index: 1;}#sk-container-id-8 div.sk-parallel {display: flex;align-items: stretch;justify-content: center;background-color: white;position: relative;}#sk-container-id-8 div.sk-item::before, #sk-container-id-8 div.sk-parallel-item::before {content: \"\";position: absolute;border-left: 1px solid gray;box-sizing: border-box;top: 0;bottom: 0;left: 50%;z-index: -1;}#sk-container-id-8 div.sk-parallel-item {display: flex;flex-direction: column;z-index: 1;position: relative;background-color: white;}#sk-container-id-8 div.sk-parallel-item:first-child::after {align-self: flex-end;width: 50%;}#sk-container-id-8 div.sk-parallel-item:last-child::after {align-self: flex-start;width: 50%;}#sk-container-id-8 div.sk-parallel-item:only-child::after {width: 0;}#sk-container-id-8 div.sk-dashed-wrapped {border: 1px dashed gray;margin: 0 0.4em 0.5em 0.4em;box-sizing: border-box;padding-bottom: 0.4em;background-color: white;}#sk-container-id-8 div.sk-label label {font-family: monospace;font-weight: bold;display: inline-block;line-height: 1.2em;}#sk-container-id-8 div.sk-label-container {text-align: center;}#sk-container-id-8 div.sk-container {/* jupyter's `normalize.less` sets `[hidden] { display: none; }` but bootstrap.min.css set `[hidden] { display: none !important; }` so we also need the `!important` here to be able to override the default hidden behavior on the sphinx rendered scikit-learn.org. See: https://github.com/scikit-learn/scikit-learn/issues/21755 */display: inline-block !important;position: relative;}#sk-container-id-8 div.sk-text-repr-fallback {display: none;}</style><div id=\"sk-container-id-8\" class=\"sk-top-container\"><div class=\"sk-text-repr-fallback\"><pre>GridSearchCV(estimator=KNeighborsClassifier(),\n",
       "             param_grid={&#x27;n_neighbors&#x27;: [3, 5, 7, 9, 11, 13, 15, 17],\n",
       "                         &#x27;p&#x27;: [1, 2]})</pre><b>In a Jupyter environment, please rerun this cell to show the HTML representation or trust the notebook. <br />On GitHub, the HTML representation is unable to render, please try loading this page with nbviewer.org.</b></div><div class=\"sk-container\" hidden><div class=\"sk-item sk-dashed-wrapped\"><div class=\"sk-label-container\"><div class=\"sk-label sk-toggleable\"><input class=\"sk-toggleable__control sk-hidden--visually\" id=\"sk-estimator-id-18\" type=\"checkbox\" ><label for=\"sk-estimator-id-18\" class=\"sk-toggleable__label sk-toggleable__label-arrow\">GridSearchCV</label><div class=\"sk-toggleable__content\"><pre>GridSearchCV(estimator=KNeighborsClassifier(),\n",
       "             param_grid={&#x27;n_neighbors&#x27;: [3, 5, 7, 9, 11, 13, 15, 17],\n",
       "                         &#x27;p&#x27;: [1, 2]})</pre></div></div></div><div class=\"sk-parallel\"><div class=\"sk-parallel-item\"><div class=\"sk-item\"><div class=\"sk-label-container\"><div class=\"sk-label sk-toggleable\"><input class=\"sk-toggleable__control sk-hidden--visually\" id=\"sk-estimator-id-19\" type=\"checkbox\" ><label for=\"sk-estimator-id-19\" class=\"sk-toggleable__label sk-toggleable__label-arrow\">estimator: KNeighborsClassifier</label><div class=\"sk-toggleable__content\"><pre>KNeighborsClassifier()</pre></div></div></div><div class=\"sk-serial\"><div class=\"sk-item\"><div class=\"sk-estimator sk-toggleable\"><input class=\"sk-toggleable__control sk-hidden--visually\" id=\"sk-estimator-id-20\" type=\"checkbox\" ><label for=\"sk-estimator-id-20\" class=\"sk-toggleable__label sk-toggleable__label-arrow\">KNeighborsClassifier</label><div class=\"sk-toggleable__content\"><pre>KNeighborsClassifier()</pre></div></div></div></div></div></div></div></div></div></div>"
      ],
      "text/plain": [
       "GridSearchCV(estimator=KNeighborsClassifier(),\n",
       "             param_grid={'n_neighbors': [3, 5, 7, 9, 11, 13, 15, 17],\n",
       "                         'p': [1, 2]})"
      ]
     },
     "execution_count": 26,
     "metadata": {},
     "output_type": "execute_result"
    }
   ],
   "source": [
    "gscv.fit(X_train, y_train)"
   ]
  },
  {
   "cell_type": "code",
   "execution_count": 27,
   "id": "06737061",
   "metadata": {},
   "outputs": [
    {
     "data": {
      "text/plain": [
       "{'mean_fit_time': array([0.00370474, 0.00257301, 0.00203681, 0.00261841, 0.00267763,\n",
       "        0.00252438, 0.00204997, 0.00202341, 0.00211391, 0.00263782,\n",
       "        0.00337543, 0.00245519, 0.00263124, 0.00417533, 0.00284967,\n",
       "        0.00286779]),\n",
       " 'std_fit_time': array([0.00084462, 0.00100119, 0.00039343, 0.00032846, 0.00061057,\n",
       "        0.00026252, 0.00033765, 0.00071853, 0.00019967, 0.00039414,\n",
       "        0.00085914, 0.00057716, 0.00088631, 0.00285101, 0.00096726,\n",
       "        0.00116578]),\n",
       " 'mean_score_time': array([0.00608783, 0.00479355, 0.00476604, 0.00518718, 0.004598  ,\n",
       "        0.00415196, 0.00424457, 0.00446463, 0.00509362, 0.00534534,\n",
       "        0.00622549, 0.00548205, 0.00613298, 0.00710301, 0.00629783,\n",
       "        0.00524316]),\n",
       " 'std_score_time': array([0.00126196, 0.00084194, 0.00042638, 0.00182412, 0.00074674,\n",
       "        0.00020359, 0.00069012, 0.00075283, 0.00128516, 0.00056707,\n",
       "        0.00115838, 0.00101302, 0.00121056, 0.00298787, 0.00116844,\n",
       "        0.00054686]),\n",
       " 'param_n_neighbors': masked_array(data=[3, 3, 5, 5, 7, 7, 9, 9, 11, 11, 13, 13, 15, 15, 17, 17],\n",
       "              mask=[False, False, False, False, False, False, False, False,\n",
       "                    False, False, False, False, False, False, False, False],\n",
       "        fill_value='?',\n",
       "             dtype=object),\n",
       " 'param_p': masked_array(data=[1, 2, 1, 2, 1, 2, 1, 2, 1, 2, 1, 2, 1, 2, 1, 2],\n",
       "              mask=[False, False, False, False, False, False, False, False,\n",
       "                    False, False, False, False, False, False, False, False],\n",
       "        fill_value='?',\n",
       "             dtype=object),\n",
       " 'params': [{'n_neighbors': 3, 'p': 1},\n",
       "  {'n_neighbors': 3, 'p': 2},\n",
       "  {'n_neighbors': 5, 'p': 1},\n",
       "  {'n_neighbors': 5, 'p': 2},\n",
       "  {'n_neighbors': 7, 'p': 1},\n",
       "  {'n_neighbors': 7, 'p': 2},\n",
       "  {'n_neighbors': 9, 'p': 1},\n",
       "  {'n_neighbors': 9, 'p': 2},\n",
       "  {'n_neighbors': 11, 'p': 1},\n",
       "  {'n_neighbors': 11, 'p': 2},\n",
       "  {'n_neighbors': 13, 'p': 1},\n",
       "  {'n_neighbors': 13, 'p': 2},\n",
       "  {'n_neighbors': 15, 'p': 1},\n",
       "  {'n_neighbors': 15, 'p': 2},\n",
       "  {'n_neighbors': 17, 'p': 1},\n",
       "  {'n_neighbors': 17, 'p': 2}],\n",
       " 'split0_test_score': array([0.765625, 0.765625, 0.765625, 0.765625, 0.78125 , 0.78125 ,\n",
       "        0.765625, 0.765625, 0.78125 , 0.78125 , 0.78125 , 0.78125 ,\n",
       "        0.765625, 0.765625, 0.765625, 0.765625]),\n",
       " 'split1_test_score': array([0.71875 , 0.71875 , 0.75    , 0.75    , 0.75    , 0.75    ,\n",
       "        0.765625, 0.765625, 0.765625, 0.765625, 0.765625, 0.765625,\n",
       "        0.765625, 0.765625, 0.765625, 0.765625]),\n",
       " 'split2_test_score': array([0.6875  , 0.6875  , 0.8125  , 0.8125  , 0.765625, 0.765625,\n",
       "        0.71875 , 0.71875 , 0.78125 , 0.78125 , 0.828125, 0.828125,\n",
       "        0.828125, 0.828125, 0.828125, 0.828125]),\n",
       " 'split3_test_score': array([0.78125 , 0.78125 , 0.796875, 0.796875, 0.8125  , 0.8125  ,\n",
       "        0.796875, 0.796875, 0.796875, 0.796875, 0.8125  , 0.8125  ,\n",
       "        0.8125  , 0.8125  , 0.8125  , 0.8125  ]),\n",
       " 'split4_test_score': array([0.8125  , 0.8125  , 0.890625, 0.890625, 0.890625, 0.890625,\n",
       "        0.890625, 0.890625, 0.90625 , 0.90625 , 0.90625 , 0.90625 ,\n",
       "        0.90625 , 0.90625 , 0.90625 , 0.90625 ]),\n",
       " 'mean_test_score': array([0.753125, 0.753125, 0.803125, 0.803125, 0.8     , 0.8     ,\n",
       "        0.7875  , 0.7875  , 0.80625 , 0.80625 , 0.81875 , 0.81875 ,\n",
       "        0.815625, 0.815625, 0.815625, 0.815625]),\n",
       " 'std_test_score': array([0.04463393, 0.04463393, 0.04901371, 0.04901371, 0.0498043 ,\n",
       "        0.0498043 , 0.0572822 , 0.0572822 , 0.05096721, 0.05096721,\n",
       "        0.04901371, 0.04901371, 0.05172795, 0.05172795, 0.05172795,\n",
       "        0.05172795]),\n",
       " 'rank_test_score': array([15, 15,  9,  9, 11, 11, 13, 13,  7,  7,  1,  1,  3,  3,  3,  3])}"
      ]
     },
     "execution_count": 27,
     "metadata": {},
     "output_type": "execute_result"
    }
   ],
   "source": [
    "gscv.cv_results_"
   ]
  },
  {
   "cell_type": "code",
   "execution_count": 28,
   "id": "82633169",
   "metadata": {},
   "outputs": [
    {
     "data": {
      "text/html": [
       "<div>\n",
       "<style scoped>\n",
       "    .dataframe tbody tr th:only-of-type {\n",
       "        vertical-align: middle;\n",
       "    }\n",
       "\n",
       "    .dataframe tbody tr th {\n",
       "        vertical-align: top;\n",
       "    }\n",
       "\n",
       "    .dataframe thead th {\n",
       "        text-align: right;\n",
       "    }\n",
       "</style>\n",
       "<table border=\"1\" class=\"dataframe\">\n",
       "  <thead>\n",
       "    <tr style=\"text-align: right;\">\n",
       "      <th></th>\n",
       "      <th>mean_fit_time</th>\n",
       "      <th>std_fit_time</th>\n",
       "      <th>mean_score_time</th>\n",
       "      <th>std_score_time</th>\n",
       "      <th>param_n_neighbors</th>\n",
       "      <th>param_p</th>\n",
       "      <th>params</th>\n",
       "      <th>split0_test_score</th>\n",
       "      <th>split1_test_score</th>\n",
       "      <th>split2_test_score</th>\n",
       "      <th>split3_test_score</th>\n",
       "      <th>split4_test_score</th>\n",
       "      <th>mean_test_score</th>\n",
       "      <th>std_test_score</th>\n",
       "      <th>rank_test_score</th>\n",
       "    </tr>\n",
       "  </thead>\n",
       "  <tbody>\n",
       "    <tr>\n",
       "      <th>0</th>\n",
       "      <td>0.003705</td>\n",
       "      <td>0.000845</td>\n",
       "      <td>0.006088</td>\n",
       "      <td>0.001262</td>\n",
       "      <td>3</td>\n",
       "      <td>1</td>\n",
       "      <td>{'n_neighbors': 3, 'p': 1}</td>\n",
       "      <td>0.765625</td>\n",
       "      <td>0.718750</td>\n",
       "      <td>0.687500</td>\n",
       "      <td>0.781250</td>\n",
       "      <td>0.812500</td>\n",
       "      <td>0.753125</td>\n",
       "      <td>0.044634</td>\n",
       "      <td>15</td>\n",
       "    </tr>\n",
       "    <tr>\n",
       "      <th>1</th>\n",
       "      <td>0.002573</td>\n",
       "      <td>0.001001</td>\n",
       "      <td>0.004794</td>\n",
       "      <td>0.000842</td>\n",
       "      <td>3</td>\n",
       "      <td>2</td>\n",
       "      <td>{'n_neighbors': 3, 'p': 2}</td>\n",
       "      <td>0.765625</td>\n",
       "      <td>0.718750</td>\n",
       "      <td>0.687500</td>\n",
       "      <td>0.781250</td>\n",
       "      <td>0.812500</td>\n",
       "      <td>0.753125</td>\n",
       "      <td>0.044634</td>\n",
       "      <td>15</td>\n",
       "    </tr>\n",
       "    <tr>\n",
       "      <th>2</th>\n",
       "      <td>0.002037</td>\n",
       "      <td>0.000393</td>\n",
       "      <td>0.004766</td>\n",
       "      <td>0.000426</td>\n",
       "      <td>5</td>\n",
       "      <td>1</td>\n",
       "      <td>{'n_neighbors': 5, 'p': 1}</td>\n",
       "      <td>0.765625</td>\n",
       "      <td>0.750000</td>\n",
       "      <td>0.812500</td>\n",
       "      <td>0.796875</td>\n",
       "      <td>0.890625</td>\n",
       "      <td>0.803125</td>\n",
       "      <td>0.049014</td>\n",
       "      <td>9</td>\n",
       "    </tr>\n",
       "    <tr>\n",
       "      <th>3</th>\n",
       "      <td>0.002618</td>\n",
       "      <td>0.000328</td>\n",
       "      <td>0.005187</td>\n",
       "      <td>0.001824</td>\n",
       "      <td>5</td>\n",
       "      <td>2</td>\n",
       "      <td>{'n_neighbors': 5, 'p': 2}</td>\n",
       "      <td>0.765625</td>\n",
       "      <td>0.750000</td>\n",
       "      <td>0.812500</td>\n",
       "      <td>0.796875</td>\n",
       "      <td>0.890625</td>\n",
       "      <td>0.803125</td>\n",
       "      <td>0.049014</td>\n",
       "      <td>9</td>\n",
       "    </tr>\n",
       "    <tr>\n",
       "      <th>4</th>\n",
       "      <td>0.002678</td>\n",
       "      <td>0.000611</td>\n",
       "      <td>0.004598</td>\n",
       "      <td>0.000747</td>\n",
       "      <td>7</td>\n",
       "      <td>1</td>\n",
       "      <td>{'n_neighbors': 7, 'p': 1}</td>\n",
       "      <td>0.781250</td>\n",
       "      <td>0.750000</td>\n",
       "      <td>0.765625</td>\n",
       "      <td>0.812500</td>\n",
       "      <td>0.890625</td>\n",
       "      <td>0.800000</td>\n",
       "      <td>0.049804</td>\n",
       "      <td>11</td>\n",
       "    </tr>\n",
       "    <tr>\n",
       "      <th>5</th>\n",
       "      <td>0.002524</td>\n",
       "      <td>0.000263</td>\n",
       "      <td>0.004152</td>\n",
       "      <td>0.000204</td>\n",
       "      <td>7</td>\n",
       "      <td>2</td>\n",
       "      <td>{'n_neighbors': 7, 'p': 2}</td>\n",
       "      <td>0.781250</td>\n",
       "      <td>0.750000</td>\n",
       "      <td>0.765625</td>\n",
       "      <td>0.812500</td>\n",
       "      <td>0.890625</td>\n",
       "      <td>0.800000</td>\n",
       "      <td>0.049804</td>\n",
       "      <td>11</td>\n",
       "    </tr>\n",
       "    <tr>\n",
       "      <th>6</th>\n",
       "      <td>0.002050</td>\n",
       "      <td>0.000338</td>\n",
       "      <td>0.004245</td>\n",
       "      <td>0.000690</td>\n",
       "      <td>9</td>\n",
       "      <td>1</td>\n",
       "      <td>{'n_neighbors': 9, 'p': 1}</td>\n",
       "      <td>0.765625</td>\n",
       "      <td>0.765625</td>\n",
       "      <td>0.718750</td>\n",
       "      <td>0.796875</td>\n",
       "      <td>0.890625</td>\n",
       "      <td>0.787500</td>\n",
       "      <td>0.057282</td>\n",
       "      <td>13</td>\n",
       "    </tr>\n",
       "    <tr>\n",
       "      <th>7</th>\n",
       "      <td>0.002023</td>\n",
       "      <td>0.000719</td>\n",
       "      <td>0.004465</td>\n",
       "      <td>0.000753</td>\n",
       "      <td>9</td>\n",
       "      <td>2</td>\n",
       "      <td>{'n_neighbors': 9, 'p': 2}</td>\n",
       "      <td>0.765625</td>\n",
       "      <td>0.765625</td>\n",
       "      <td>0.718750</td>\n",
       "      <td>0.796875</td>\n",
       "      <td>0.890625</td>\n",
       "      <td>0.787500</td>\n",
       "      <td>0.057282</td>\n",
       "      <td>13</td>\n",
       "    </tr>\n",
       "    <tr>\n",
       "      <th>8</th>\n",
       "      <td>0.002114</td>\n",
       "      <td>0.000200</td>\n",
       "      <td>0.005094</td>\n",
       "      <td>0.001285</td>\n",
       "      <td>11</td>\n",
       "      <td>1</td>\n",
       "      <td>{'n_neighbors': 11, 'p': 1}</td>\n",
       "      <td>0.781250</td>\n",
       "      <td>0.765625</td>\n",
       "      <td>0.781250</td>\n",
       "      <td>0.796875</td>\n",
       "      <td>0.906250</td>\n",
       "      <td>0.806250</td>\n",
       "      <td>0.050967</td>\n",
       "      <td>7</td>\n",
       "    </tr>\n",
       "    <tr>\n",
       "      <th>9</th>\n",
       "      <td>0.002638</td>\n",
       "      <td>0.000394</td>\n",
       "      <td>0.005345</td>\n",
       "      <td>0.000567</td>\n",
       "      <td>11</td>\n",
       "      <td>2</td>\n",
       "      <td>{'n_neighbors': 11, 'p': 2}</td>\n",
       "      <td>0.781250</td>\n",
       "      <td>0.765625</td>\n",
       "      <td>0.781250</td>\n",
       "      <td>0.796875</td>\n",
       "      <td>0.906250</td>\n",
       "      <td>0.806250</td>\n",
       "      <td>0.050967</td>\n",
       "      <td>7</td>\n",
       "    </tr>\n",
       "    <tr>\n",
       "      <th>10</th>\n",
       "      <td>0.003375</td>\n",
       "      <td>0.000859</td>\n",
       "      <td>0.006225</td>\n",
       "      <td>0.001158</td>\n",
       "      <td>13</td>\n",
       "      <td>1</td>\n",
       "      <td>{'n_neighbors': 13, 'p': 1}</td>\n",
       "      <td>0.781250</td>\n",
       "      <td>0.765625</td>\n",
       "      <td>0.828125</td>\n",
       "      <td>0.812500</td>\n",
       "      <td>0.906250</td>\n",
       "      <td>0.818750</td>\n",
       "      <td>0.049014</td>\n",
       "      <td>1</td>\n",
       "    </tr>\n",
       "    <tr>\n",
       "      <th>11</th>\n",
       "      <td>0.002455</td>\n",
       "      <td>0.000577</td>\n",
       "      <td>0.005482</td>\n",
       "      <td>0.001013</td>\n",
       "      <td>13</td>\n",
       "      <td>2</td>\n",
       "      <td>{'n_neighbors': 13, 'p': 2}</td>\n",
       "      <td>0.781250</td>\n",
       "      <td>0.765625</td>\n",
       "      <td>0.828125</td>\n",
       "      <td>0.812500</td>\n",
       "      <td>0.906250</td>\n",
       "      <td>0.818750</td>\n",
       "      <td>0.049014</td>\n",
       "      <td>1</td>\n",
       "    </tr>\n",
       "    <tr>\n",
       "      <th>12</th>\n",
       "      <td>0.002631</td>\n",
       "      <td>0.000886</td>\n",
       "      <td>0.006133</td>\n",
       "      <td>0.001211</td>\n",
       "      <td>15</td>\n",
       "      <td>1</td>\n",
       "      <td>{'n_neighbors': 15, 'p': 1}</td>\n",
       "      <td>0.765625</td>\n",
       "      <td>0.765625</td>\n",
       "      <td>0.828125</td>\n",
       "      <td>0.812500</td>\n",
       "      <td>0.906250</td>\n",
       "      <td>0.815625</td>\n",
       "      <td>0.051728</td>\n",
       "      <td>3</td>\n",
       "    </tr>\n",
       "    <tr>\n",
       "      <th>13</th>\n",
       "      <td>0.004175</td>\n",
       "      <td>0.002851</td>\n",
       "      <td>0.007103</td>\n",
       "      <td>0.002988</td>\n",
       "      <td>15</td>\n",
       "      <td>2</td>\n",
       "      <td>{'n_neighbors': 15, 'p': 2}</td>\n",
       "      <td>0.765625</td>\n",
       "      <td>0.765625</td>\n",
       "      <td>0.828125</td>\n",
       "      <td>0.812500</td>\n",
       "      <td>0.906250</td>\n",
       "      <td>0.815625</td>\n",
       "      <td>0.051728</td>\n",
       "      <td>3</td>\n",
       "    </tr>\n",
       "    <tr>\n",
       "      <th>14</th>\n",
       "      <td>0.002850</td>\n",
       "      <td>0.000967</td>\n",
       "      <td>0.006298</td>\n",
       "      <td>0.001168</td>\n",
       "      <td>17</td>\n",
       "      <td>1</td>\n",
       "      <td>{'n_neighbors': 17, 'p': 1}</td>\n",
       "      <td>0.765625</td>\n",
       "      <td>0.765625</td>\n",
       "      <td>0.828125</td>\n",
       "      <td>0.812500</td>\n",
       "      <td>0.906250</td>\n",
       "      <td>0.815625</td>\n",
       "      <td>0.051728</td>\n",
       "      <td>3</td>\n",
       "    </tr>\n",
       "    <tr>\n",
       "      <th>15</th>\n",
       "      <td>0.002868</td>\n",
       "      <td>0.001166</td>\n",
       "      <td>0.005243</td>\n",
       "      <td>0.000547</td>\n",
       "      <td>17</td>\n",
       "      <td>2</td>\n",
       "      <td>{'n_neighbors': 17, 'p': 2}</td>\n",
       "      <td>0.765625</td>\n",
       "      <td>0.765625</td>\n",
       "      <td>0.828125</td>\n",
       "      <td>0.812500</td>\n",
       "      <td>0.906250</td>\n",
       "      <td>0.815625</td>\n",
       "      <td>0.051728</td>\n",
       "      <td>3</td>\n",
       "    </tr>\n",
       "  </tbody>\n",
       "</table>\n",
       "</div>"
      ],
      "text/plain": [
       "    mean_fit_time  std_fit_time  mean_score_time  std_score_time  \\\n",
       "0        0.003705      0.000845         0.006088        0.001262   \n",
       "1        0.002573      0.001001         0.004794        0.000842   \n",
       "2        0.002037      0.000393         0.004766        0.000426   \n",
       "3        0.002618      0.000328         0.005187        0.001824   \n",
       "4        0.002678      0.000611         0.004598        0.000747   \n",
       "5        0.002524      0.000263         0.004152        0.000204   \n",
       "6        0.002050      0.000338         0.004245        0.000690   \n",
       "7        0.002023      0.000719         0.004465        0.000753   \n",
       "8        0.002114      0.000200         0.005094        0.001285   \n",
       "9        0.002638      0.000394         0.005345        0.000567   \n",
       "10       0.003375      0.000859         0.006225        0.001158   \n",
       "11       0.002455      0.000577         0.005482        0.001013   \n",
       "12       0.002631      0.000886         0.006133        0.001211   \n",
       "13       0.004175      0.002851         0.007103        0.002988   \n",
       "14       0.002850      0.000967         0.006298        0.001168   \n",
       "15       0.002868      0.001166         0.005243        0.000547   \n",
       "\n",
       "   param_n_neighbors param_p                       params  split0_test_score  \\\n",
       "0                  3       1   {'n_neighbors': 3, 'p': 1}           0.765625   \n",
       "1                  3       2   {'n_neighbors': 3, 'p': 2}           0.765625   \n",
       "2                  5       1   {'n_neighbors': 5, 'p': 1}           0.765625   \n",
       "3                  5       2   {'n_neighbors': 5, 'p': 2}           0.765625   \n",
       "4                  7       1   {'n_neighbors': 7, 'p': 1}           0.781250   \n",
       "5                  7       2   {'n_neighbors': 7, 'p': 2}           0.781250   \n",
       "6                  9       1   {'n_neighbors': 9, 'p': 1}           0.765625   \n",
       "7                  9       2   {'n_neighbors': 9, 'p': 2}           0.765625   \n",
       "8                 11       1  {'n_neighbors': 11, 'p': 1}           0.781250   \n",
       "9                 11       2  {'n_neighbors': 11, 'p': 2}           0.781250   \n",
       "10                13       1  {'n_neighbors': 13, 'p': 1}           0.781250   \n",
       "11                13       2  {'n_neighbors': 13, 'p': 2}           0.781250   \n",
       "12                15       1  {'n_neighbors': 15, 'p': 1}           0.765625   \n",
       "13                15       2  {'n_neighbors': 15, 'p': 2}           0.765625   \n",
       "14                17       1  {'n_neighbors': 17, 'p': 1}           0.765625   \n",
       "15                17       2  {'n_neighbors': 17, 'p': 2}           0.765625   \n",
       "\n",
       "    split1_test_score  split2_test_score  split3_test_score  \\\n",
       "0            0.718750           0.687500           0.781250   \n",
       "1            0.718750           0.687500           0.781250   \n",
       "2            0.750000           0.812500           0.796875   \n",
       "3            0.750000           0.812500           0.796875   \n",
       "4            0.750000           0.765625           0.812500   \n",
       "5            0.750000           0.765625           0.812500   \n",
       "6            0.765625           0.718750           0.796875   \n",
       "7            0.765625           0.718750           0.796875   \n",
       "8            0.765625           0.781250           0.796875   \n",
       "9            0.765625           0.781250           0.796875   \n",
       "10           0.765625           0.828125           0.812500   \n",
       "11           0.765625           0.828125           0.812500   \n",
       "12           0.765625           0.828125           0.812500   \n",
       "13           0.765625           0.828125           0.812500   \n",
       "14           0.765625           0.828125           0.812500   \n",
       "15           0.765625           0.828125           0.812500   \n",
       "\n",
       "    split4_test_score  mean_test_score  std_test_score  rank_test_score  \n",
       "0            0.812500         0.753125        0.044634               15  \n",
       "1            0.812500         0.753125        0.044634               15  \n",
       "2            0.890625         0.803125        0.049014                9  \n",
       "3            0.890625         0.803125        0.049014                9  \n",
       "4            0.890625         0.800000        0.049804               11  \n",
       "5            0.890625         0.800000        0.049804               11  \n",
       "6            0.890625         0.787500        0.057282               13  \n",
       "7            0.890625         0.787500        0.057282               13  \n",
       "8            0.906250         0.806250        0.050967                7  \n",
       "9            0.906250         0.806250        0.050967                7  \n",
       "10           0.906250         0.818750        0.049014                1  \n",
       "11           0.906250         0.818750        0.049014                1  \n",
       "12           0.906250         0.815625        0.051728                3  \n",
       "13           0.906250         0.815625        0.051728                3  \n",
       "14           0.906250         0.815625        0.051728                3  \n",
       "15           0.906250         0.815625        0.051728                3  "
      ]
     },
     "execution_count": 28,
     "metadata": {},
     "output_type": "execute_result"
    }
   ],
   "source": [
    "res = pd.DataFrame(gscv.cv_results_)\n",
    "res"
   ]
  },
  {
   "cell_type": "code",
   "execution_count": 29,
   "id": "209b02be",
   "metadata": {},
   "outputs": [
    {
     "data": {
      "text/html": [
       "<div>\n",
       "<style scoped>\n",
       "    .dataframe tbody tr th:only-of-type {\n",
       "        vertical-align: middle;\n",
       "    }\n",
       "\n",
       "    .dataframe tbody tr th {\n",
       "        vertical-align: top;\n",
       "    }\n",
       "\n",
       "    .dataframe thead th {\n",
       "        text-align: right;\n",
       "    }\n",
       "</style>\n",
       "<table border=\"1\" class=\"dataframe\">\n",
       "  <thead>\n",
       "    <tr style=\"text-align: right;\">\n",
       "      <th></th>\n",
       "      <th>params</th>\n",
       "      <th>mean_test_score</th>\n",
       "      <th>rank_test_score</th>\n",
       "    </tr>\n",
       "  </thead>\n",
       "  <tbody>\n",
       "    <tr>\n",
       "      <th>0</th>\n",
       "      <td>{'n_neighbors': 3, 'p': 1}</td>\n",
       "      <td>0.753125</td>\n",
       "      <td>15</td>\n",
       "    </tr>\n",
       "    <tr>\n",
       "      <th>1</th>\n",
       "      <td>{'n_neighbors': 3, 'p': 2}</td>\n",
       "      <td>0.753125</td>\n",
       "      <td>15</td>\n",
       "    </tr>\n",
       "    <tr>\n",
       "      <th>2</th>\n",
       "      <td>{'n_neighbors': 5, 'p': 1}</td>\n",
       "      <td>0.803125</td>\n",
       "      <td>9</td>\n",
       "    </tr>\n",
       "    <tr>\n",
       "      <th>3</th>\n",
       "      <td>{'n_neighbors': 5, 'p': 2}</td>\n",
       "      <td>0.803125</td>\n",
       "      <td>9</td>\n",
       "    </tr>\n",
       "    <tr>\n",
       "      <th>4</th>\n",
       "      <td>{'n_neighbors': 7, 'p': 1}</td>\n",
       "      <td>0.800000</td>\n",
       "      <td>11</td>\n",
       "    </tr>\n",
       "    <tr>\n",
       "      <th>5</th>\n",
       "      <td>{'n_neighbors': 7, 'p': 2}</td>\n",
       "      <td>0.800000</td>\n",
       "      <td>11</td>\n",
       "    </tr>\n",
       "    <tr>\n",
       "      <th>6</th>\n",
       "      <td>{'n_neighbors': 9, 'p': 1}</td>\n",
       "      <td>0.787500</td>\n",
       "      <td>13</td>\n",
       "    </tr>\n",
       "    <tr>\n",
       "      <th>7</th>\n",
       "      <td>{'n_neighbors': 9, 'p': 2}</td>\n",
       "      <td>0.787500</td>\n",
       "      <td>13</td>\n",
       "    </tr>\n",
       "    <tr>\n",
       "      <th>8</th>\n",
       "      <td>{'n_neighbors': 11, 'p': 1}</td>\n",
       "      <td>0.806250</td>\n",
       "      <td>7</td>\n",
       "    </tr>\n",
       "    <tr>\n",
       "      <th>9</th>\n",
       "      <td>{'n_neighbors': 11, 'p': 2}</td>\n",
       "      <td>0.806250</td>\n",
       "      <td>7</td>\n",
       "    </tr>\n",
       "    <tr>\n",
       "      <th>10</th>\n",
       "      <td>{'n_neighbors': 13, 'p': 1}</td>\n",
       "      <td>0.818750</td>\n",
       "      <td>1</td>\n",
       "    </tr>\n",
       "    <tr>\n",
       "      <th>11</th>\n",
       "      <td>{'n_neighbors': 13, 'p': 2}</td>\n",
       "      <td>0.818750</td>\n",
       "      <td>1</td>\n",
       "    </tr>\n",
       "    <tr>\n",
       "      <th>12</th>\n",
       "      <td>{'n_neighbors': 15, 'p': 1}</td>\n",
       "      <td>0.815625</td>\n",
       "      <td>3</td>\n",
       "    </tr>\n",
       "    <tr>\n",
       "      <th>13</th>\n",
       "      <td>{'n_neighbors': 15, 'p': 2}</td>\n",
       "      <td>0.815625</td>\n",
       "      <td>3</td>\n",
       "    </tr>\n",
       "    <tr>\n",
       "      <th>14</th>\n",
       "      <td>{'n_neighbors': 17, 'p': 1}</td>\n",
       "      <td>0.815625</td>\n",
       "      <td>3</td>\n",
       "    </tr>\n",
       "    <tr>\n",
       "      <th>15</th>\n",
       "      <td>{'n_neighbors': 17, 'p': 2}</td>\n",
       "      <td>0.815625</td>\n",
       "      <td>3</td>\n",
       "    </tr>\n",
       "  </tbody>\n",
       "</table>\n",
       "</div>"
      ],
      "text/plain": [
       "                         params  mean_test_score  rank_test_score\n",
       "0    {'n_neighbors': 3, 'p': 1}         0.753125               15\n",
       "1    {'n_neighbors': 3, 'p': 2}         0.753125               15\n",
       "2    {'n_neighbors': 5, 'p': 1}         0.803125                9\n",
       "3    {'n_neighbors': 5, 'p': 2}         0.803125                9\n",
       "4    {'n_neighbors': 7, 'p': 1}         0.800000               11\n",
       "5    {'n_neighbors': 7, 'p': 2}         0.800000               11\n",
       "6    {'n_neighbors': 9, 'p': 1}         0.787500               13\n",
       "7    {'n_neighbors': 9, 'p': 2}         0.787500               13\n",
       "8   {'n_neighbors': 11, 'p': 1}         0.806250                7\n",
       "9   {'n_neighbors': 11, 'p': 2}         0.806250                7\n",
       "10  {'n_neighbors': 13, 'p': 1}         0.818750                1\n",
       "11  {'n_neighbors': 13, 'p': 2}         0.818750                1\n",
       "12  {'n_neighbors': 15, 'p': 1}         0.815625                3\n",
       "13  {'n_neighbors': 15, 'p': 2}         0.815625                3\n",
       "14  {'n_neighbors': 17, 'p': 1}         0.815625                3\n",
       "15  {'n_neighbors': 17, 'p': 2}         0.815625                3"
      ]
     },
     "execution_count": 29,
     "metadata": {},
     "output_type": "execute_result"
    }
   ],
   "source": [
    "res[['params', 'mean_test_score', 'rank_test_score']]"
   ]
  },
  {
   "cell_type": "markdown",
   "id": "d37bc4b3",
   "metadata": {},
   "source": [
    "### Note:\n",
    "\n",
    "- Changing the distance from Manhattan to Euclidean distance, the accuracy remains constant indicating\n",
    "that accuracy is not dependent on the distance metric.\n",
    "- The accuracy is highest when k = 13 and distance is either Manhattan or Euclidean (any one can be taken)"
   ]
  },
  {
   "cell_type": "code",
   "execution_count": null,
   "id": "8c4d1020",
   "metadata": {},
   "outputs": [],
   "source": []
  }
 ],
 "metadata": {
  "kernelspec": {
   "display_name": "Python 3 (ipykernel)",
   "language": "python",
   "name": "python3"
  },
  "language_info": {
   "codemirror_mode": {
    "name": "ipython",
    "version": 3
   },
   "file_extension": ".py",
   "mimetype": "text/x-python",
   "name": "python",
   "nbconvert_exporter": "python",
   "pygments_lexer": "ipython3",
   "version": "3.9.16"
  }
 },
 "nbformat": 4,
 "nbformat_minor": 5
}
