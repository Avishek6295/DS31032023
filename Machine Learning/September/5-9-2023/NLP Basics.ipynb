{
 "cells": [
  {
   "cell_type": "markdown",
   "id": "cf799bad",
   "metadata": {},
   "source": [
    "## Agenda:\n",
    "\n",
    "1. NLP Basics(Natural Language Language Processing)\n",
    "\n",
    "\n",
    "#### Application of NLP:\n",
    "\n",
    "1. Text Analytics (Analysis texts)\n",
    "2. Twitter Sentiment Analysis\n",
    "3. Review Analysis"
   ]
  },
  {
   "cell_type": "code",
   "execution_count": 1,
   "id": "ca7cb1c7",
   "metadata": {},
   "outputs": [
    {
     "data": {
      "text/plain": [
       "'Happy to share the news that India Successfully landed on Moon. Chanrayana - 3 was a complete success'"
      ]
     },
     "execution_count": 1,
     "metadata": {},
     "output_type": "execute_result"
    }
   ],
   "source": [
    "tweet = 'Happy to share the news that India Successfully landed on Moon. Chanrayana - 3 was a complete success'\n",
    "tweet"
   ]
  },
  {
   "cell_type": "markdown",
   "id": "3d0fe4a5",
   "metadata": {},
   "source": [
    "## Basics of NLP"
   ]
  },
  {
   "cell_type": "markdown",
   "id": "8b5f8688",
   "metadata": {},
   "source": [
    "## Step 1 : Convert the text into a lower case text"
   ]
  },
  {
   "cell_type": "code",
   "execution_count": 2,
   "id": "ffb3d1e0",
   "metadata": {},
   "outputs": [
    {
     "data": {
      "text/plain": [
       "'It is a Truth Universally acknowledged, that a single man in posession of a good fortune, must be in want of a good #Wife!'"
      ]
     },
     "execution_count": 2,
     "metadata": {},
     "output_type": "execute_result"
    }
   ],
   "source": [
    "text = 'It is a Truth Universally acknowledged, that a single man in posession of a good fortune, must be in want of a good #Wife!'\n",
    "text"
   ]
  },
  {
   "cell_type": "code",
   "execution_count": 3,
   "id": "5cb70aad",
   "metadata": {},
   "outputs": [
    {
     "data": {
      "text/plain": [
       "'it is a truth universally acknowledged, that a single man in posession of a good fortune, must be in want of a good #wife!'"
      ]
     },
     "execution_count": 3,
     "metadata": {},
     "output_type": "execute_result"
    }
   ],
   "source": [
    "text = text.lower()\n",
    "text"
   ]
  },
  {
   "cell_type": "code",
   "execution_count": 4,
   "id": "181e0cff",
   "metadata": {},
   "outputs": [],
   "source": [
    "s = 'hello'\n",
    "s1 = 'Hello'"
   ]
  },
  {
   "cell_type": "code",
   "execution_count": 5,
   "id": "3483412d",
   "metadata": {},
   "outputs": [
    {
     "data": {
      "text/plain": [
       "False"
      ]
     },
     "execution_count": 5,
     "metadata": {},
     "output_type": "execute_result"
    }
   ],
   "source": [
    "s == s1"
   ]
  },
  {
   "cell_type": "markdown",
   "id": "766edd15",
   "metadata": {},
   "source": [
    "## Step 2 : Removing Punctuations"
   ]
  },
  {
   "cell_type": "code",
   "execution_count": 6,
   "id": "ff0afd6e",
   "metadata": {},
   "outputs": [
    {
     "name": "stdout",
     "output_type": "stream",
     "text": [
      "!\"#$%&'()*+,-./:;<=>?@[\\]^_`{|}~\n"
     ]
    }
   ],
   "source": [
    "import string\n",
    "print(string.punctuation)"
   ]
  },
  {
   "cell_type": "code",
   "execution_count": 7,
   "id": "4fc4e4e3",
   "metadata": {},
   "outputs": [
    {
     "name": "stdout",
     "output_type": "stream",
     "text": [
      "it is a truth universally acknowledged that a single man in posession of a good fortune must be in want of a good wife\n"
     ]
    }
   ],
   "source": [
    "ch = []\n",
    "for char in text:\n",
    "    if char not in string.punctuation:\n",
    "        ch.append(char)\n",
    "\n",
    "text = \"\".join(ch)\n",
    "print(text)"
   ]
  },
  {
   "cell_type": "code",
   "execution_count": 8,
   "id": "aaca7f93",
   "metadata": {},
   "outputs": [
    {
     "data": {
      "text/plain": [
       "'it is a truth universally acknowledged that a single man in posession of a good fortune must be in want of a good wife'"
      ]
     },
     "execution_count": 8,
     "metadata": {},
     "output_type": "execute_result"
    }
   ],
   "source": [
    "text"
   ]
  },
  {
   "cell_type": "code",
   "execution_count": 9,
   "id": "5f25c182",
   "metadata": {},
   "outputs": [
    {
     "name": "stdout",
     "output_type": "stream",
     "text": [
      "it is a truth universally acknowledged that a single man in posession of a good fortune must be in want of a good wife\n"
     ]
    }
   ],
   "source": [
    "ch = []\n",
    "for char in text:\n",
    "    if char not in string.punctuation:\n",
    "        ch.append(char) \n",
    "text = \"\".join(ch)\n",
    "print(text)"
   ]
  },
  {
   "cell_type": "markdown",
   "id": "7e508e14",
   "metadata": {},
   "source": [
    "## Word tokenization:\n",
    "\n",
    "- Word tokenization is defined as extracting all the words from the sentence or text and displaying those unique words in the output"
   ]
  },
  {
   "cell_type": "code",
   "execution_count": 10,
   "id": "e1bd311c",
   "metadata": {},
   "outputs": [
    {
     "data": {
      "text/plain": [
       "'it is a truth universally acknowledged that a single man in posession of a good fortune must be in want of a good wife'"
      ]
     },
     "execution_count": 10,
     "metadata": {},
     "output_type": "execute_result"
    }
   ],
   "source": [
    "text"
   ]
  },
  {
   "cell_type": "markdown",
   "id": "d933e339",
   "metadata": {},
   "source": [
    "### To perform word tokenization we must have nltk library installed"
   ]
  },
  {
   "cell_type": "code",
   "execution_count": 11,
   "id": "e7fc623c",
   "metadata": {},
   "outputs": [
    {
     "name": "stdout",
     "output_type": "stream",
     "text": [
      "Requirement already satisfied: nltk in c:\\users\\amant\\anaconda3\\lib\\site-packages (3.7)\n",
      "Requirement already satisfied: regex>=2021.8.3 in c:\\users\\amant\\anaconda3\\lib\\site-packages (from nltk) (2022.7.9)\n",
      "Requirement already satisfied: click in c:\\users\\amant\\anaconda3\\lib\\site-packages (from nltk) (8.0.4)\n",
      "Requirement already satisfied: joblib in c:\\users\\amant\\anaconda3\\lib\\site-packages (from nltk) (1.1.1)\n",
      "Requirement already satisfied: tqdm in c:\\users\\amant\\anaconda3\\lib\\site-packages (from nltk) (4.65.0)\n",
      "Requirement already satisfied: colorama in c:\\users\\amant\\anaconda3\\lib\\site-packages (from click->nltk) (0.4.6)\n"
     ]
    },
    {
     "name": "stderr",
     "output_type": "stream",
     "text": [
      "Error processing line 3 of C:\\Users\\AMANT\\anaconda3\\lib\\site-packages\\googleapis_common_protos-1.56.4-py3.10-nspkg.pth:\n",
      "\n",
      "  Traceback (most recent call last):\n",
      "    File \"C:\\Users\\AMANT\\anaconda3\\lib\\site.py\", line 169, in addpackage\n",
      "      exec(line)\n",
      "    File \"<string>\", line 1, in <module>\n",
      "    File \"<frozen importlib._bootstrap>\", line 562, in module_from_spec\n",
      "  AttributeError: 'NoneType' object has no attribute 'loader'\n",
      "\n",
      "Remainder of file ignored\n"
     ]
    }
   ],
   "source": [
    "!pip install nltk"
   ]
  },
  {
   "cell_type": "code",
   "execution_count": 12,
   "id": "973b5cdc",
   "metadata": {},
   "outputs": [],
   "source": [
    "import nltk"
   ]
  },
  {
   "cell_type": "code",
   "execution_count": 13,
   "id": "094616c2",
   "metadata": {},
   "outputs": [
    {
     "data": {
      "text/plain": [
       "'it is a truth universally acknowledged that a single man in posession of a good fortune must be in want of a good wife'"
      ]
     },
     "execution_count": 13,
     "metadata": {},
     "output_type": "execute_result"
    }
   ],
   "source": [
    "text"
   ]
  },
  {
   "cell_type": "code",
   "execution_count": 14,
   "id": "217c4352",
   "metadata": {},
   "outputs": [
    {
     "data": {
      "text/plain": [
       "['it',\n",
       " 'is',\n",
       " 'a',\n",
       " 'truth',\n",
       " 'universally',\n",
       " 'acknowledged',\n",
       " 'that',\n",
       " 'a',\n",
       " 'single',\n",
       " 'man',\n",
       " 'in',\n",
       " 'posession',\n",
       " 'of',\n",
       " 'a',\n",
       " 'good',\n",
       " 'fortune',\n",
       " 'must',\n",
       " 'be',\n",
       " 'in',\n",
       " 'want',\n",
       " 'of',\n",
       " 'a',\n",
       " 'good',\n",
       " 'wife']"
      ]
     },
     "execution_count": 14,
     "metadata": {},
     "output_type": "execute_result"
    }
   ],
   "source": [
    "from nltk.tokenize import word_tokenize\n",
    "text_tokenized = word_tokenize(text)\n",
    "text_tokenized"
   ]
  },
  {
   "cell_type": "markdown",
   "id": "f7561afe",
   "metadata": {},
   "source": [
    "## Sentence tokenization:"
   ]
  },
  {
   "cell_type": "code",
   "execution_count": 33,
   "id": "f27d8478",
   "metadata": {},
   "outputs": [
    {
     "data": {
      "text/plain": [
       "'This is an NLP basics session. This is an NLP basics session. NLP is a nice area of research. I am learning how to analyze text data'"
      ]
     },
     "execution_count": 33,
     "metadata": {},
     "output_type": "execute_result"
    }
   ],
   "source": [
    "text2 = \"This is an NLP basics session. This is an NLP basics session. NLP is a nice area of research. I am learning how to analyze text data\"\n",
    "text2"
   ]
  },
  {
   "cell_type": "code",
   "execution_count": 34,
   "id": "6b695afb",
   "metadata": {},
   "outputs": [
    {
     "data": {
      "text/plain": [
       "['This is an NLP basics session.',\n",
       " 'This is an NLP basics session.',\n",
       " 'NLP is a nice area of research.',\n",
       " 'I am learning how to analyze text data']"
      ]
     },
     "execution_count": 34,
     "metadata": {},
     "output_type": "execute_result"
    }
   ],
   "source": [
    "from nltk import sent_tokenize\n",
    "sent_tokenize(text2)"
   ]
  },
  {
   "cell_type": "markdown",
   "id": "f5986ddd",
   "metadata": {},
   "source": [
    "## Stopwords filtering\n",
    "\n",
    "- Stop words are just additions to the sentence that make a sentence complete\n",
    "- They can also be called as connecting words.\n",
    "\n",
    "eg: it, is, am, a, the, are, were , they, that, was, etc"
   ]
  },
  {
   "cell_type": "code",
   "execution_count": 18,
   "id": "99127092",
   "metadata": {},
   "outputs": [
    {
     "name": "stdout",
     "output_type": "stream",
     "text": [
      "['i', 'me', 'my', 'myself', 'we', 'our', 'ours', 'ourselves', 'you', \"you're\", \"you've\", \"you'll\", \"you'd\", 'your', 'yours', 'yourself', 'yourselves', 'he', 'him', 'his', 'himself', 'she', \"she's\", 'her', 'hers', 'herself', 'it', \"it's\", 'its', 'itself', 'they', 'them', 'their', 'theirs', 'themselves', 'what', 'which', 'who', 'whom', 'this', 'that', \"that'll\", 'these', 'those', 'am', 'is', 'are', 'was', 'were', 'be', 'been', 'being', 'have', 'has', 'had', 'having', 'do', 'does', 'did', 'doing', 'a', 'an', 'the', 'and', 'but', 'if', 'or', 'because', 'as', 'until', 'while', 'of', 'at', 'by', 'for', 'with', 'about', 'against', 'between', 'into', 'through', 'during', 'before', 'after', 'above', 'below', 'to', 'from', 'up', 'down', 'in', 'out', 'on', 'off', 'over', 'under', 'again', 'further', 'then', 'once', 'here', 'there', 'when', 'where', 'why', 'how', 'all', 'any', 'both', 'each', 'few', 'more', 'most', 'other', 'some', 'such', 'no', 'nor', 'not', 'only', 'own', 'same', 'so', 'than', 'too', 'very', 's', 't', 'can', 'will', 'just', 'don', \"don't\", 'should', \"should've\", 'now', 'd', 'll', 'm', 'o', 're', 've', 'y', 'ain', 'aren', \"aren't\", 'couldn', \"couldn't\", 'didn', \"didn't\", 'doesn', \"doesn't\", 'hadn', \"hadn't\", 'hasn', \"hasn't\", 'haven', \"haven't\", 'isn', \"isn't\", 'ma', 'mightn', \"mightn't\", 'mustn', \"mustn't\", 'needn', \"needn't\", 'shan', \"shan't\", 'shouldn', \"shouldn't\", 'wasn', \"wasn't\", 'weren', \"weren't\", 'won', \"won't\", 'wouldn', \"wouldn't\"]\n"
     ]
    }
   ],
   "source": [
    "from nltk.corpus import stopwords\n",
    "stop_words = stopwords.words('english')\n",
    "print(stop_words)"
   ]
  },
  {
   "cell_type": "code",
   "execution_count": 19,
   "id": "81fefc69",
   "metadata": {},
   "outputs": [
    {
     "data": {
      "text/plain": [
       "179"
      ]
     },
     "execution_count": 19,
     "metadata": {},
     "output_type": "execute_result"
    }
   ],
   "source": [
    "len(stop_words)"
   ]
  },
  {
   "cell_type": "code",
   "execution_count": 54,
   "id": "926e322a",
   "metadata": {},
   "outputs": [],
   "source": [
    "## When you are performing stopwords removal\n",
    "\n",
    "## 1. Perform word_tokenization on the text\n",
    "## 2. On the output of word tokenization perform stop words removal"
   ]
  },
  {
   "cell_type": "code",
   "execution_count": 52,
   "id": "af752db6",
   "metadata": {},
   "outputs": [
    {
     "data": {
      "text/plain": [
       "'It is a Truth Universally acknowledged, that a single man in posession of a good fortune, must be in want of a good #Wife!'"
      ]
     },
     "execution_count": 52,
     "metadata": {},
     "output_type": "execute_result"
    }
   ],
   "source": [
    "text = 'It is a Truth Universally acknowledged, that a single man in posession of a good fortune, must be in want of a good #Wife!'\n",
    "text"
   ]
  },
  {
   "cell_type": "code",
   "execution_count": 53,
   "id": "a6cc0b4c",
   "metadata": {},
   "outputs": [
    {
     "data": {
      "text/plain": [
       "['It',\n",
       " 'is',\n",
       " 'a',\n",
       " 'Truth',\n",
       " 'Universally',\n",
       " 'acknowledged',\n",
       " ',',\n",
       " 'that',\n",
       " 'a',\n",
       " 'single',\n",
       " 'man',\n",
       " 'in',\n",
       " 'posession',\n",
       " 'of',\n",
       " 'a',\n",
       " 'good',\n",
       " 'fortune',\n",
       " ',',\n",
       " 'must',\n",
       " 'be',\n",
       " 'in',\n",
       " 'want',\n",
       " 'of',\n",
       " 'a',\n",
       " 'good',\n",
       " '#',\n",
       " 'Wife',\n",
       " '!']"
      ]
     },
     "execution_count": 53,
     "metadata": {},
     "output_type": "execute_result"
    }
   ],
   "source": [
    "from nltk.tokenize import word_tokenize\n",
    "text_tokenized = word_tokenize(text)\n",
    "text_tokenized"
   ]
  },
  {
   "cell_type": "code",
   "execution_count": 55,
   "id": "b5b01f51",
   "metadata": {},
   "outputs": [
    {
     "data": {
      "text/plain": [
       "'It Truth Universally acknowledged , single man posession good fortune , must want good # Wife !'"
      ]
     },
     "execution_count": 55,
     "metadata": {},
     "output_type": "execute_result"
    }
   ],
   "source": [
    "new_text = \" \".join([each_word for each_word in text_tokenized if each_word not in stop_words])\n",
    "new_text"
   ]
  },
  {
   "cell_type": "code",
   "execution_count": 58,
   "id": "916d02e0",
   "metadata": {},
   "outputs": [
    {
     "data": {
      "text/plain": [
       "'it truth universally acknowledged , single man posession good fortune , must want good # wife !'"
      ]
     },
     "execution_count": 58,
     "metadata": {},
     "output_type": "execute_result"
    }
   ],
   "source": [
    "new_text = new_text.lower()\n",
    "new_text"
   ]
  },
  {
   "cell_type": "code",
   "execution_count": 59,
   "id": "012b347f",
   "metadata": {},
   "outputs": [
    {
     "data": {
      "text/plain": [
       "['it',\n",
       " 'truth',\n",
       " 'universally',\n",
       " 'acknowledged',\n",
       " ',',\n",
       " 'single',\n",
       " 'man',\n",
       " 'posession',\n",
       " 'good',\n",
       " 'fortune',\n",
       " ',',\n",
       " 'must',\n",
       " 'want',\n",
       " 'good',\n",
       " '#',\n",
       " 'wife',\n",
       " '!']"
      ]
     },
     "execution_count": 59,
     "metadata": {},
     "output_type": "execute_result"
    }
   ],
   "source": [
    "text_tokenized = word_tokenize(new_text)\n",
    "text_tokenized"
   ]
  },
  {
   "cell_type": "code",
   "execution_count": 60,
   "id": "d6c0040e",
   "metadata": {},
   "outputs": [
    {
     "data": {
      "text/plain": [
       "'truth universally acknowledged , single man posession good fortune , must want good # wife !'"
      ]
     },
     "execution_count": 60,
     "metadata": {},
     "output_type": "execute_result"
    }
   ],
   "source": [
    "new_text = \" \".join([each_word for each_word in text_tokenized if each_word not in stop_words])\n",
    "new_text"
   ]
  },
  {
   "cell_type": "code",
   "execution_count": 61,
   "id": "94893bcc",
   "metadata": {},
   "outputs": [
    {
     "ename": "SyntaxError",
     "evalue": "invalid syntax (4151552586.py, line 1)",
     "output_type": "error",
     "traceback": [
      "\u001b[1;36m  Cell \u001b[1;32mIn[61], line 1\u001b[1;36m\u001b[0m\n\u001b[1;33m    for each_word in text_tokenized\u001b[0m\n\u001b[1;37m                                   ^\u001b[0m\n\u001b[1;31mSyntaxError\u001b[0m\u001b[1;31m:\u001b[0m invalid syntax\n"
     ]
    }
   ],
   "source": [
    "for each_word in text_tokenized\n",
    "# it - is the first word in the text_tokenized output\n",
    "if each_word not in stop_words\n",
    "# it is a part of the stop_words list - (it is a part of stop words list)\n",
    "hence it is excluded"
   ]
  },
  {
   "cell_type": "code",
   "execution_count": null,
   "id": "564efa99",
   "metadata": {},
   "outputs": [],
   "source": [
    "for each_word in text_tokenized\n",
    "# truth is the next word in text_tokenized output\n",
    "if each_word not in stop_words\n",
    "# truth - check whether truth is a part of stop words list - (truth is not a part of stop words list)\n",
    "hence retain and display 'each_word' (truth) in the output"
   ]
  },
  {
   "cell_type": "code",
   "execution_count": null,
   "id": "2367d579",
   "metadata": {},
   "outputs": [],
   "source": [
    "for each_word in text_tokenized\n",
    "# universally is the next word in text_tokenized output\n",
    "if each_word not in stop_words\n",
    "# universally - check whether universally is a part of stop words list - (universally is not a part of stop words list)\n",
    "hence retain and display 'each_word' (universally) in the output"
   ]
  },
  {
   "cell_type": "markdown",
   "id": "08186e8e",
   "metadata": {},
   "source": [
    "## Frequency count"
   ]
  },
  {
   "cell_type": "code",
   "execution_count": 62,
   "id": "c534db0b",
   "metadata": {},
   "outputs": [
    {
     "data": {
      "text/plain": [
       "'It is a Truth Universally acknowledged, that a single man in posession of a good fortune, must be in want of a good #Wife!'"
      ]
     },
     "execution_count": 62,
     "metadata": {},
     "output_type": "execute_result"
    }
   ],
   "source": [
    "text"
   ]
  },
  {
   "cell_type": "code",
   "execution_count": 63,
   "id": "aa2d7d26",
   "metadata": {},
   "outputs": [
    {
     "data": {
      "text/plain": [
       "FreqDist({' ': 23, 'o': 10, 'a': 9, 'n': 9, 'e': 8, 't': 7, 'i': 7, 's': 7, 'l': 4, 'd': 4, ...})"
      ]
     },
     "execution_count": 63,
     "metadata": {},
     "output_type": "execute_result"
    }
   ],
   "source": [
    "nltk.FreqDist(text)"
   ]
  },
  {
   "cell_type": "code",
   "execution_count": 66,
   "id": "3c6b5fbf",
   "metadata": {},
   "outputs": [
    {
     "data": {
      "text/plain": [
       "FreqDist({'a': 4, 'in': 2, 'of': 2, 'good': 2, 'It': 1, 'is': 1, 'Truth': 1, 'Universally': 1, 'acknowledged,': 1, 'that': 1, ...})"
      ]
     },
     "execution_count": 66,
     "metadata": {},
     "output_type": "execute_result"
    }
   ],
   "source": [
    "nltk.FreqDist(text.split())"
   ]
  },
  {
   "cell_type": "code",
   "execution_count": 67,
   "id": "ba77597d",
   "metadata": {},
   "outputs": [
    {
     "data": {
      "text/plain": [
       "['It',\n",
       " 'is',\n",
       " 'a',\n",
       " 'Truth',\n",
       " 'Universally',\n",
       " 'acknowledged,',\n",
       " 'that',\n",
       " 'a',\n",
       " 'single',\n",
       " 'man',\n",
       " 'in',\n",
       " 'posession',\n",
       " 'of',\n",
       " 'a',\n",
       " 'good',\n",
       " 'fortune,',\n",
       " 'must',\n",
       " 'be',\n",
       " 'in',\n",
       " 'want',\n",
       " 'of',\n",
       " 'a',\n",
       " 'good',\n",
       " '#Wife!']"
      ]
     },
     "execution_count": 67,
     "metadata": {},
     "output_type": "execute_result"
    }
   ],
   "source": [
    "text.split()"
   ]
  },
  {
   "cell_type": "markdown",
   "id": "cc3cd407",
   "metadata": {},
   "source": [
    "## Parts of Speech tagging"
   ]
  },
  {
   "cell_type": "code",
   "execution_count": 70,
   "id": "73a1f1d9",
   "metadata": {},
   "outputs": [
    {
     "data": {
      "text/plain": [
       "['it',\n",
       " 'truth',\n",
       " 'universally',\n",
       " 'acknowledged',\n",
       " ',',\n",
       " 'single',\n",
       " 'man',\n",
       " 'posession',\n",
       " 'good',\n",
       " 'fortune',\n",
       " ',',\n",
       " 'must',\n",
       " 'want',\n",
       " 'good',\n",
       " '#',\n",
       " 'wife',\n",
       " '!']"
      ]
     },
     "execution_count": 70,
     "metadata": {},
     "output_type": "execute_result"
    }
   ],
   "source": [
    "text_tokenized"
   ]
  },
  {
   "cell_type": "code",
   "execution_count": 72,
   "id": "ae214452",
   "metadata": {},
   "outputs": [
    {
     "data": {
      "text/plain": [
       "[('it', 'PRP'),\n",
       " ('truth', 'VBZ'),\n",
       " ('universally', 'RB'),\n",
       " ('acknowledged', 'VBN'),\n",
       " (',', ','),\n",
       " ('single', 'JJ'),\n",
       " ('man', 'NN'),\n",
       " ('posession', 'NN'),\n",
       " ('good', 'JJ'),\n",
       " ('fortune', 'NN'),\n",
       " (',', ','),\n",
       " ('must', 'MD'),\n",
       " ('want', 'VB'),\n",
       " ('good', 'JJ'),\n",
       " ('#', '#'),\n",
       " ('wife', 'NN'),\n",
       " ('!', '.')]"
      ]
     },
     "execution_count": 72,
     "metadata": {},
     "output_type": "execute_result"
    }
   ],
   "source": [
    "from nltk import pos_tag\n",
    "pos_tag(text_tokenized)"
   ]
  },
  {
   "cell_type": "code",
   "execution_count": 81,
   "id": "9e35849e",
   "metadata": {},
   "outputs": [
    {
     "name": "stdout",
     "output_type": "stream",
     "text": [
      "PRP: pronoun, personal\n",
      "    hers herself him himself hisself it itself me myself one oneself ours\n",
      "    ourselves ownself self she thee theirs them themselves they thou thy us\n"
     ]
    },
    {
     "name": "stderr",
     "output_type": "stream",
     "text": [
      "[nltk_data] Downloading package tagsets to\n",
      "[nltk_data]     C:\\Users\\AMANT\\AppData\\Roaming\\nltk_data...\n",
      "[nltk_data]   Package tagsets is already up-to-date!\n"
     ]
    }
   ],
   "source": [
    "nltk.download('tagsets')\n",
    "nltk.help.upenn_tagset('PRP')"
   ]
  },
  {
   "cell_type": "markdown",
   "id": "ab246883",
   "metadata": {},
   "source": [
    "## Stemming"
   ]
  },
  {
   "cell_type": "code",
   "execution_count": 83,
   "id": "031467fd",
   "metadata": {},
   "outputs": [
    {
     "data": {
      "text/plain": [
       "'It is a Truth Universally acknowledged, that a single man in posession of a good fortune, must be in want of a good #Wife!'"
      ]
     },
     "execution_count": 83,
     "metadata": {},
     "output_type": "execute_result"
    }
   ],
   "source": [
    "text"
   ]
  },
  {
   "cell_type": "code",
   "execution_count": 82,
   "id": "0a4cf72f",
   "metadata": {},
   "outputs": [
    {
     "data": {
      "text/plain": [
       "<PorterStemmer>"
      ]
     },
     "execution_count": 82,
     "metadata": {},
     "output_type": "execute_result"
    }
   ],
   "source": [
    "from nltk.stem.porter import PorterStemmer\n",
    "porter = PorterStemmer()\n",
    "porter"
   ]
  },
  {
   "cell_type": "code",
   "execution_count": 85,
   "id": "1b01a7f4",
   "metadata": {},
   "outputs": [
    {
     "data": {
      "text/plain": [
       "['it',\n",
       " 'is',\n",
       " 'a',\n",
       " 'truth',\n",
       " 'univers',\n",
       " 'acknowledged,',\n",
       " 'that',\n",
       " 'a',\n",
       " 'singl',\n",
       " 'man',\n",
       " 'in',\n",
       " 'posess',\n",
       " 'of',\n",
       " 'a',\n",
       " 'good',\n",
       " 'fortune,',\n",
       " 'must',\n",
       " 'be',\n",
       " 'in',\n",
       " 'want',\n",
       " 'of',\n",
       " 'a',\n",
       " 'good',\n",
       " '#wife!']"
      ]
     },
     "execution_count": 85,
     "metadata": {},
     "output_type": "execute_result"
    }
   ],
   "source": [
    "[porter.stem(word) for word in text.split()]"
   ]
  },
  {
   "cell_type": "markdown",
   "id": "4cee2b1f",
   "metadata": {},
   "source": [
    "## Notes:\n",
    "\n",
    "- Stemming is a process that converts a word to its root form with or without meaning.\n",
    "- The disadvantage of stemming is that the roots words obtained are meaningless.\n",
    "- To overcome this disadvantage we perform Lemmatization\n",
    "- Lemmatization is the process of converting a word to its meaningful root form\n",
    "\n",
    "eg: universally after stemming was converted to 'univers' which has no meaning but after lemmatization\n",
    "it will be converted to 'universe' which is the actual root form with meaning"
   ]
  },
  {
   "cell_type": "code",
   "execution_count": 86,
   "id": "9d3c6840",
   "metadata": {},
   "outputs": [
    {
     "data": {
      "text/plain": [
       "<WordNetLemmatizer>"
      ]
     },
     "execution_count": 86,
     "metadata": {},
     "output_type": "execute_result"
    }
   ],
   "source": [
    "from nltk.stem import WordNetLemmatizer\n",
    "lemma = WordNetLemmatizer()\n",
    "lemma"
   ]
  },
  {
   "cell_type": "code",
   "execution_count": 87,
   "id": "1f92079c",
   "metadata": {},
   "outputs": [
    {
     "data": {
      "text/plain": [
       "'go'"
      ]
     },
     "execution_count": 87,
     "metadata": {},
     "output_type": "execute_result"
    }
   ],
   "source": [
    "lemma.lemmatize('going', pos = 'v')"
   ]
  },
  {
   "cell_type": "code",
   "execution_count": 95,
   "id": "eafef264",
   "metadata": {},
   "outputs": [
    {
     "data": {
      "text/plain": [
       "'acknowledge'"
      ]
     },
     "execution_count": 95,
     "metadata": {},
     "output_type": "execute_result"
    }
   ],
   "source": [
    "lemma.lemmatize('acknowledged', pos = 'v')"
   ]
  },
  {
   "cell_type": "code",
   "execution_count": 96,
   "id": "7d463b39",
   "metadata": {},
   "outputs": [
    {
     "data": {
      "text/plain": [
       "'It is a Truth Universally acknowledged that a single man in posession of a good fortune, must be in want of a good #Wife!'"
      ]
     },
     "execution_count": 96,
     "metadata": {},
     "output_type": "execute_result"
    }
   ],
   "source": [
    "text = 'It is a Truth Universally acknowledged that a single man in posession of a good fortune, must be in want of a good #Wife!'\n",
    "text"
   ]
  },
  {
   "cell_type": "code",
   "execution_count": 97,
   "id": "88724821",
   "metadata": {},
   "outputs": [
    {
     "data": {
      "text/plain": [
       "['It',\n",
       " 'be',\n",
       " 'a',\n",
       " 'Truth',\n",
       " 'Universally',\n",
       " 'acknowledge',\n",
       " 'that',\n",
       " 'a',\n",
       " 'single',\n",
       " 'man',\n",
       " 'in',\n",
       " 'posession',\n",
       " 'of',\n",
       " 'a',\n",
       " 'good',\n",
       " 'fortune,',\n",
       " 'must',\n",
       " 'be',\n",
       " 'in',\n",
       " 'want',\n",
       " 'of',\n",
       " 'a',\n",
       " 'good',\n",
       " '#Wife!']"
      ]
     },
     "execution_count": 97,
     "metadata": {},
     "output_type": "execute_result"
    }
   ],
   "source": [
    "[lemma.lemmatize(word, pos = 'v') for word in text.split()]"
   ]
  },
  {
   "cell_type": "code",
   "execution_count": null,
   "id": "71e5b67a",
   "metadata": {},
   "outputs": [],
   "source": []
  }
 ],
 "metadata": {
  "kernelspec": {
   "display_name": "Python 3 (ipykernel)",
   "language": "python",
   "name": "python3"
  },
  "language_info": {
   "codemirror_mode": {
    "name": "ipython",
    "version": 3
   },
   "file_extension": ".py",
   "mimetype": "text/x-python",
   "name": "python",
   "nbconvert_exporter": "python",
   "pygments_lexer": "ipython3",
   "version": "3.9.16"
  }
 },
 "nbformat": 4,
 "nbformat_minor": 5
}
